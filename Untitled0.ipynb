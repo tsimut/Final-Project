{
  "nbformat": 4,
  "nbformat_minor": 0,
  "metadata": {
    "colab": {
      "name": "Untitled0.ipynb",
      "version": "0.3.2",
      "provenance": [],
      "include_colab_link": true
    },
    "kernelspec": {
      "name": "python3",
      "display_name": "Python 3"
    }
  },
  "cells": [
    {
      "cell_type": "markdown",
      "metadata": {
        "id": "view-in-github",
        "colab_type": "text"
      },
      "source": [
        "<a href=\"https://colab.research.google.com/github/tsimut/Final-Project/blob/master/Untitled0.ipynb\" target=\"_parent\"><img src=\"https://colab.research.google.com/assets/colab-badge.svg\" alt=\"Open In Colab\"/></a>"
      ]
    },
    {
      "cell_type": "code",
      "metadata": {
        "id": "3kvjGi2suqjq",
        "colab_type": "code",
        "colab": {}
      },
      "source": [
        " pip install \"tensorflow>=1.7.0\"\n"
      ],
      "execution_count": 0,
      "outputs": []
    },
    {
      "cell_type": "code",
      "metadata": {
        "id": "ydoY8xoIvDRA",
        "colab_type": "code",
        "outputId": "da8c110c-13dc-4bf6-dba4-f2ac6551f9f4",
        "colab": {
          "base_uri": "https://localhost:8080/",
          "height": 102
        }
      },
      "source": [
        "pip install tensorflow-hub"
      ],
      "execution_count": 0,
      "outputs": [
        {
          "output_type": "stream",
          "text": [
            "Requirement already satisfied: tensorflow-hub in /usr/local/lib/python3.6/dist-packages (0.5.0)\n",
            "Requirement already satisfied: numpy>=1.12.0 in /usr/local/lib/python3.6/dist-packages (from tensorflow-hub) (1.16.4)\n",
            "Requirement already satisfied: six>=1.10.0 in /usr/local/lib/python3.6/dist-packages (from tensorflow-hub) (1.12.0)\n",
            "Requirement already satisfied: protobuf>=3.4.0 in /usr/local/lib/python3.6/dist-packages (from tensorflow-hub) (3.7.1)\n",
            "Requirement already satisfied: setuptools in /usr/local/lib/python3.6/dist-packages (from protobuf>=3.4.0->tensorflow-hub) (41.0.1)\n"
          ],
          "name": "stdout"
        }
      ]
    },
    {
      "cell_type": "code",
      "metadata": {
        "id": "8XjJiMDnvVd8",
        "colab_type": "code",
        "colab": {}
      },
      "source": [
        "import tensorflow_hub as hub\n",
        "import tensorflow as tf\n",
        "\n",
        "elmo = hub.Module(\"https://tfhub.dev/google/elmo/2\", trainable=True)"
      ],
      "execution_count": 0,
      "outputs": []
    },
    {
      "cell_type": "code",
      "metadata": {
        "id": "Aktrb3PJKMZr",
        "colab_type": "code",
        "colab": {}
      },
      "source": [
        "\n",
        "from sklearn.metrics.pairwise import cosine_similarity"
      ],
      "execution_count": 0,
      "outputs": []
    },
    {
      "cell_type": "code",
      "metadata": {
        "id": "OZGDR96bKtUe",
        "colab_type": "code",
        "colab": {}
      },
      "source": [
        "def elmo_vectors(x):\n",
        "   \n",
        "  embeddings=elmo(x, signature=\"default\", as_dict=True)[\"elmo\"]\n",
        "  \n",
        "  with tf.Session() as sess:\n",
        "    sess.run(tf.global_variables_initializer())\n",
        "    sess.run(tf.tables_initializer())\n",
        "    # return average of ELMo features\n",
        "    return sess.run(tf.reduce_mean(embeddings,1))"
      ],
      "execution_count": 0,
      "outputs": []
    },
    {
      "cell_type": "code",
      "metadata": {
        "id": "IzEG95TxKvyo",
        "colab_type": "code",
        "outputId": "31ba65ce-932e-482f-a007-1b7bd66571be",
        "colab": {
          "base_uri": "https://localhost:8080/",
          "height": 34
        }
      },
      "source": [
        "print(\"hello\")"
      ],
      "execution_count": 0,
      "outputs": [
        {
          "output_type": "stream",
          "text": [
            "hello\n"
          ],
          "name": "stdout"
        }
      ]
    },
    {
      "cell_type": "code",
      "metadata": {
        "id": "UdmTnSEGK22s",
        "colab_type": "code",
        "colab": {}
      },
      "source": [
        "corpus=[\"I'd like an apple juice\",\n",
        "                            \"An apple a day keeps the doctor away\",\n",
        "                             \"Eat apple every day\",\n",
        "                             \"We buy apples every week\",\n",
        "                             \"We use machine learning for text classification\",\n",
        "                             \"Text classification is subfield of machine learning\"]\n"
      ],
      "execution_count": 0,
      "outputs": []
    },
    {
      "cell_type": "code",
      "metadata": {
        "id": "X2Kd2uO5K6uK",
        "colab_type": "code",
        "outputId": "45fa12f1-058f-4a8d-bd96-37e2b711f40c",
        "colab": {
          "base_uri": "https://localhost:8080/",
          "height": 136
        }
      },
      "source": [
        "elmo_embeddings=[]\n",
        "print (len(corpus))\n",
        "for i in range(len(corpus)):\n",
        "    print (corpus[i])\n",
        "    elmo_embeddings.append(elmo_vectors([corpus[i]])[0])\n",
        "   \n"
      ],
      "execution_count": 0,
      "outputs": [
        {
          "output_type": "stream",
          "text": [
            "6\n",
            "I'd like an apple juice\n",
            "An apple a day keeps the doctor away\n",
            "Eat apple every day\n",
            "We buy apples every week\n",
            "We use machine learning for text classification\n",
            "Text classification is subfield of machine learning\n"
          ],
          "name": "stdout"
        }
      ]
    },
    {
      "cell_type": "code",
      "metadata": {
        "id": "qJlIz_bBtgpB",
        "colab_type": "code",
        "outputId": "cf44a9c0-f43b-4b15-bcc6-3208562a53a4",
        "colab": {
          "base_uri": "https://localhost:8080/",
          "height": 51
        }
      },
      "source": [
        "x = [\"I'd like an apple juice\"]\n",
        "# Extract ELMo features \n",
        "\n",
        "embeddings=[]\n",
        "print (len(x))\n",
        "for i in range(len(x)):\n",
        "    print (x)\n",
        "    embeddings.append(elmo_vectors([x][0]))\n",
        "   "
      ],
      "execution_count": 0,
      "outputs": [
        {
          "output_type": "stream",
          "text": [
            "1\n",
            "[\"I'd like an apple juice\"]\n"
          ],
          "name": "stdout"
        }
      ]
    },
    {
      "cell_type": "code",
      "metadata": {
        "id": "A0CCeDb6wzSb",
        "colab_type": "code",
        "outputId": "99f3682f-054d-43c1-dc65-de9d711d5ce4",
        "colab": {
          "base_uri": "https://localhost:8080/",
          "height": 51
        }
      },
      "source": [
        "embeddings[0][0]"
      ],
      "execution_count": 0,
      "outputs": [
        {
          "output_type": "execute_result",
          "data": {
            "text/plain": [
              "array([-0.08238707,  0.07898244,  0.0899315 , ..., -0.22516638,\n",
              "        0.0555426 ,  0.29672703], dtype=float32)"
            ]
          },
          "metadata": {
            "tags": []
          },
          "execution_count": 27
        }
      ]
    },
    {
      "cell_type": "code",
      "metadata": {
        "id": "aH_zmmTdyNVj",
        "colab_type": "code",
        "outputId": "87091e22-0961-4cd1-dcd5-5d94899ba692",
        "colab": {
          "base_uri": "https://localhost:8080/",
          "height": 51
        }
      },
      "source": [
        "elmo_embeddings[0]"
      ],
      "execution_count": 0,
      "outputs": [
        {
          "output_type": "execute_result",
          "data": {
            "text/plain": [
              "array([ 0.02739538, -0.10040505,  0.12195785, ..., -0.06023911,\n",
              "        0.19663572,  0.38090166], dtype=float32)"
            ]
          },
          "metadata": {
            "tags": []
          },
          "execution_count": 31
        }
      ]
    },
    {
      "cell_type": "code",
      "metadata": {
        "id": "aeJwJGF7pnow",
        "colab_type": "code",
        "colab": {}
      },
      "source": [
        "cosine_sim=cosine_similarity(embeddings[0], elmo_embeddings)"
      ],
      "execution_count": 0,
      "outputs": []
    },
    {
      "cell_type": "code",
      "metadata": {
        "id": "ln4fhWVELCIq",
        "colab_type": "code",
        "outputId": "ed530b80-d7e4-4e6f-a7db-0d5b31721f6f",
        "colab": {
          "base_uri": "https://localhost:8080/",
          "height": 34
        }
      },
      "source": [
        "print(cosine_sim)"
      ],
      "execution_count": 0,
      "outputs": [
        {
          "output_type": "stream",
          "text": [
            "[[1.0000001  0.60986406 0.57428706 0.53863823 0.39638186 0.35737067]]\n"
          ],
          "name": "stdout"
        }
      ]
    },
    {
      "cell_type": "code",
      "metadata": {
        "id": "u5JCwEOssAFA",
        "colab_type": "code",
        "outputId": "fe2a87c4-fd6a-48d4-95d1-e88f6644e528",
        "colab": {
          "base_uri": "https://localhost:8080/",
          "height": 34
        }
      },
      "source": [
        "type(cosine_sim)"
      ],
      "execution_count": 0,
      "outputs": [
        {
          "output_type": "execute_result",
          "data": {
            "text/plain": [
              "numpy.ndarray"
            ]
          },
          "metadata": {
            "tags": []
          },
          "execution_count": 37
        }
      ]
    },
    {
      "cell_type": "code",
      "metadata": {
        "id": "mOH9teNI2L1E",
        "colab_type": "code",
        "outputId": "c94d5305-be0c-4ef7-9ddd-baa487620885",
        "colab": {
          "base_uri": "https://localhost:8080/",
          "height": 235
        }
      },
      "source": [
        "import pandas as pd\n",
        "df = pd.DataFrame(cosine_sim[0])\n",
        "df"
      ],
      "execution_count": 0,
      "outputs": [
        {
          "output_type": "execute_result",
          "data": {
            "text/html": [
              "<div>\n",
              "<style scoped>\n",
              "    .dataframe tbody tr th:only-of-type {\n",
              "        vertical-align: middle;\n",
              "    }\n",
              "\n",
              "    .dataframe tbody tr th {\n",
              "        vertical-align: top;\n",
              "    }\n",
              "\n",
              "    .dataframe thead th {\n",
              "        text-align: right;\n",
              "    }\n",
              "</style>\n",
              "<table border=\"1\" class=\"dataframe\">\n",
              "  <thead>\n",
              "    <tr style=\"text-align: right;\">\n",
              "      <th></th>\n",
              "      <th>0</th>\n",
              "    </tr>\n",
              "  </thead>\n",
              "  <tbody>\n",
              "    <tr>\n",
              "      <th>0</th>\n",
              "      <td>0.531078</td>\n",
              "    </tr>\n",
              "    <tr>\n",
              "      <th>1</th>\n",
              "      <td>0.493970</td>\n",
              "    </tr>\n",
              "    <tr>\n",
              "      <th>2</th>\n",
              "      <td>0.545111</td>\n",
              "    </tr>\n",
              "    <tr>\n",
              "      <th>3</th>\n",
              "      <td>0.524490</td>\n",
              "    </tr>\n",
              "    <tr>\n",
              "      <th>4</th>\n",
              "      <td>0.322107</td>\n",
              "    </tr>\n",
              "    <tr>\n",
              "      <th>5</th>\n",
              "      <td>0.326863</td>\n",
              "    </tr>\n",
              "  </tbody>\n",
              "</table>\n",
              "</div>"
            ],
            "text/plain": [
              "          0\n",
              "0  0.531078\n",
              "1  0.493970\n",
              "2  0.545111\n",
              "3  0.524490\n",
              "4  0.322107\n",
              "5  0.326863"
            ]
          },
          "metadata": {
            "tags": []
          },
          "execution_count": 47
        }
      ]
    },
    {
      "cell_type": "code",
      "metadata": {
        "id": "UAzVEK0zMVoj",
        "colab_type": "code",
        "outputId": "62343caa-5305-41e4-cd93-f6de85fd4ec5",
        "colab": {
          "base_uri": "https://localhost:8080/",
          "height": 221
        }
      },
      "source": [
        "elmo_embeddings"
      ],
      "execution_count": 0,
      "outputs": [
        {
          "output_type": "execute_result",
          "data": {
            "text/plain": [
              "[array([ 0.02739538, -0.10040505,  0.12195785, ..., -0.06023911,\n",
              "         0.19663572,  0.38090166], dtype=float32),\n",
              " array([ 0.08833801, -0.2139268 , -0.09389024, ..., -0.0492448 ,\n",
              "         0.08270925,  0.25595015], dtype=float32),\n",
              " array([ 0.45237514, -0.00928457,  0.52458614, ...,  0.00988385,\n",
              "        -0.03330074,  0.25460467], dtype=float32),\n",
              " array([-0.1474548 , -0.25623205,  0.2023159 , ..., -0.11443615,\n",
              "        -0.03759002,  0.18829304], dtype=float32),\n",
              " array([-0.44559923, -0.1429281 , -0.32497615, ...,  0.01917094,\n",
              "        -0.29726097, -0.02022669], dtype=float32),\n",
              " array([-0.25027972,  0.09800245, -0.10265832, ..., -0.22239073,\n",
              "         0.2981895 ,  0.00978716], dtype=float32)]"
            ]
          },
          "metadata": {
            "tags": []
          },
          "execution_count": 17
        }
      ]
    },
    {
      "cell_type": "code",
      "metadata": {
        "id": "56chLUEDpolV",
        "colab_type": "code",
        "outputId": "bd72319c-d4db-4753-9fe4-30bb41ec644e",
        "colab": {
          "base_uri": "https://localhost:8080/",
          "height": 204
        }
      },
      "source": [
        "pd.DataFrame(data=cosine_sim[1:,1:],   \n",
        "...              index=cosine_sim[1:,0],    \n",
        "...              columns=cosine_sim[0,1:])  "
      ],
      "execution_count": 0,
      "outputs": [
        {
          "output_type": "execute_result",
          "data": {
            "text/html": [
              "<div>\n",
              "<style scoped>\n",
              "    .dataframe tbody tr th:only-of-type {\n",
              "        vertical-align: middle;\n",
              "    }\n",
              "\n",
              "    .dataframe tbody tr th {\n",
              "        vertical-align: top;\n",
              "    }\n",
              "\n",
              "    .dataframe thead th {\n",
              "        text-align: right;\n",
              "    }\n",
              "</style>\n",
              "<table border=\"1\" class=\"dataframe\">\n",
              "  <thead>\n",
              "    <tr style=\"text-align: right;\">\n",
              "      <th></th>\n",
              "      <th>0.6098641157150269</th>\n",
              "      <th>0.5742871761322021</th>\n",
              "      <th>0.5386382341384888</th>\n",
              "      <th>0.3963817358016968</th>\n",
              "      <th>0.3573705554008484</th>\n",
              "    </tr>\n",
              "  </thead>\n",
              "  <tbody>\n",
              "    <tr>\n",
              "      <th>0.609864</th>\n",
              "      <td>1.000000</td>\n",
              "      <td>0.603607</td>\n",
              "      <td>0.582400</td>\n",
              "      <td>0.396488</td>\n",
              "      <td>0.398252</td>\n",
              "    </tr>\n",
              "    <tr>\n",
              "      <th>0.574287</th>\n",
              "      <td>0.603607</td>\n",
              "      <td>1.000000</td>\n",
              "      <td>0.776098</td>\n",
              "      <td>0.385840</td>\n",
              "      <td>0.334616</td>\n",
              "    </tr>\n",
              "    <tr>\n",
              "      <th>0.538638</th>\n",
              "      <td>0.582400</td>\n",
              "      <td>0.776098</td>\n",
              "      <td>0.999999</td>\n",
              "      <td>0.492279</td>\n",
              "      <td>0.354906</td>\n",
              "    </tr>\n",
              "    <tr>\n",
              "      <th>0.396382</th>\n",
              "      <td>0.396488</td>\n",
              "      <td>0.385840</td>\n",
              "      <td>0.492279</td>\n",
              "      <td>1.000000</td>\n",
              "      <td>0.730765</td>\n",
              "    </tr>\n",
              "    <tr>\n",
              "      <th>0.357371</th>\n",
              "      <td>0.398252</td>\n",
              "      <td>0.334616</td>\n",
              "      <td>0.354906</td>\n",
              "      <td>0.730765</td>\n",
              "      <td>1.000000</td>\n",
              "    </tr>\n",
              "  </tbody>\n",
              "</table>\n",
              "</div>"
            ],
            "text/plain": [
              "          0.609864  0.574287  0.538638  0.396382  0.357371\n",
              "0.609864  1.000000  0.603607  0.582400  0.396488  0.398252\n",
              "0.574287  0.603607  1.000000  0.776098  0.385840  0.334616\n",
              "0.538638  0.582400  0.776098  0.999999  0.492279  0.354906\n",
              "0.396382  0.396488  0.385840  0.492279  1.000000  0.730765\n",
              "0.357371  0.398252  0.334616  0.354906  0.730765  1.000000"
            ]
          },
          "metadata": {
            "tags": []
          },
          "execution_count": 19
        }
      ]
    },
    {
      "cell_type": "code",
      "metadata": {
        "id": "JXZVR-cUsA3x",
        "colab_type": "code",
        "outputId": "873ce0e0-0f0f-4aad-b0ff-875b481f6878",
        "colab": {
          "base_uri": "https://localhost:8080/",
          "height": 190
        }
      },
      "source": [
        "pip install PyPDF2\n"
      ],
      "execution_count": 2,
      "outputs": [
        {
          "output_type": "stream",
          "text": [
            "Collecting PyPDF2\n",
            "\u001b[?25l  Downloading https://files.pythonhosted.org/packages/b4/01/68fcc0d43daf4c6bdbc6b33cc3f77bda531c86b174cac56ef0ffdb96faab/PyPDF2-1.26.0.tar.gz (77kB)\n",
            "\u001b[K     |████████████████████████████████| 81kB 3.1MB/s \n",
            "\u001b[?25hBuilding wheels for collected packages: PyPDF2\n",
            "  Building wheel for PyPDF2 (setup.py) ... \u001b[?25l\u001b[?25hdone\n",
            "  Stored in directory: /root/.cache/pip/wheels/53/84/19/35bc977c8bf5f0c23a8a011aa958acd4da4bbd7a229315c1b7\n",
            "Successfully built PyPDF2\n",
            "Installing collected packages: PyPDF2\n",
            "Successfully installed PyPDF2-1.26.0\n"
          ],
          "name": "stdout"
        }
      ]
    },
    {
      "cell_type": "code",
      "metadata": {
        "id": "396ET_EMhvyV",
        "colab_type": "code",
        "colab": {
          "base_uri": "https://localhost:8080/",
          "height": 201
        },
        "outputId": "1b3ac175-24eb-4b7a-b613-5bcee5bb4bce"
      },
      "source": [
        "import PyPDF2  \n",
        "mypdf = open('https://github.com/tsimut/Final-Project/blob/master/insurance_policy.pdf', mode='rb')  "
      ],
      "execution_count": 6,
      "outputs": [
        {
          "output_type": "error",
          "ename": "FileNotFoundError",
          "evalue": "ignored",
          "traceback": [
            "\u001b[0;31m---------------------------------------------------------------------------\u001b[0m",
            "\u001b[0;31mFileNotFoundError\u001b[0m                         Traceback (most recent call last)",
            "\u001b[0;32m<ipython-input-6-a2370bc7c74b>\u001b[0m in \u001b[0;36m<module>\u001b[0;34m()\u001b[0m\n\u001b[1;32m      1\u001b[0m \u001b[0;32mimport\u001b[0m \u001b[0mPyPDF2\u001b[0m\u001b[0;34m\u001b[0m\u001b[0;34m\u001b[0m\u001b[0m\n\u001b[0;32m----> 2\u001b[0;31m \u001b[0mmypdf\u001b[0m \u001b[0;34m=\u001b[0m \u001b[0mopen\u001b[0m\u001b[0;34m(\u001b[0m\u001b[0;34m'https://github.com/tsimut/Final-Project/blob/master/insurance_policy.pdf'\u001b[0m\u001b[0;34m,\u001b[0m \u001b[0mmode\u001b[0m\u001b[0;34m=\u001b[0m\u001b[0;34m'rb'\u001b[0m\u001b[0;34m)\u001b[0m\u001b[0;34m\u001b[0m\u001b[0;34m\u001b[0m\u001b[0m\n\u001b[0m",
            "\u001b[0;31mFileNotFoundError\u001b[0m: [Errno 2] No such file or directory: 'https://github.com/tsimut/Final-Project/blob/master/insurance_policy.pdf'"
          ]
        }
      ]
    }
  ]
}