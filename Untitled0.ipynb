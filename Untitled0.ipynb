{
  "nbformat": 4,
  "nbformat_minor": 0,
  "metadata": {
    "colab": {
      "name": "Untitled0.ipynb",
      "version": "0.3.2",
      "provenance": [],
      "collapsed_sections": [],
      "include_colab_link": true
    },
    "kernelspec": {
      "name": "python3",
      "display_name": "Python 3"
    }
  },
  "cells": [
    {
      "cell_type": "markdown",
      "metadata": {
        "id": "view-in-github",
        "colab_type": "text"
      },
      "source": [
        "<a href=\"https://colab.research.google.com/github/tsimut/Final-Project/blob/master/Untitled0.ipynb\" target=\"_parent\"><img src=\"https://colab.research.google.com/assets/colab-badge.svg\" alt=\"Open In Colab\"/></a>"
      ]
    },
    {
      "cell_type": "code",
      "metadata": {
        "id": "3kvjGi2suqjq",
        "colab_type": "code",
        "colab": {
          "base_uri": "https://localhost:8080/",
          "height": 357
        },
        "outputId": "d7dd9479-15a9-49de-95aa-e346fdf61a8b"
      },
      "source": [
        " pip install \"tensorflow>=1.7.0\"\n"
      ],
      "execution_count": 1,
      "outputs": [
        {
          "output_type": "stream",
          "text": [
            "Requirement already satisfied: tensorflow>=1.7.0 in /usr/local/lib/python3.6/dist-packages (1.14.0)\n",
            "Requirement already satisfied: wrapt>=1.11.1 in /usr/local/lib/python3.6/dist-packages (from tensorflow>=1.7.0) (1.11.2)\n",
            "Requirement already satisfied: absl-py>=0.7.0 in /usr/local/lib/python3.6/dist-packages (from tensorflow>=1.7.0) (0.7.1)\n",
            "Requirement already satisfied: grpcio>=1.8.6 in /usr/local/lib/python3.6/dist-packages (from tensorflow>=1.7.0) (1.15.0)\n",
            "Requirement already satisfied: tensorflow-estimator<1.15.0rc0,>=1.14.0rc0 in /usr/local/lib/python3.6/dist-packages (from tensorflow>=1.7.0) (1.14.0)\n",
            "Requirement already satisfied: google-pasta>=0.1.6 in /usr/local/lib/python3.6/dist-packages (from tensorflow>=1.7.0) (0.1.7)\n",
            "Requirement already satisfied: termcolor>=1.1.0 in /usr/local/lib/python3.6/dist-packages (from tensorflow>=1.7.0) (1.1.0)\n",
            "Requirement already satisfied: keras-preprocessing>=1.0.5 in /usr/local/lib/python3.6/dist-packages (from tensorflow>=1.7.0) (1.1.0)\n",
            "Requirement already satisfied: keras-applications>=1.0.6 in /usr/local/lib/python3.6/dist-packages (from tensorflow>=1.7.0) (1.0.8)\n",
            "Requirement already satisfied: gast>=0.2.0 in /usr/local/lib/python3.6/dist-packages (from tensorflow>=1.7.0) (0.2.2)\n",
            "Requirement already satisfied: astor>=0.6.0 in /usr/local/lib/python3.6/dist-packages (from tensorflow>=1.7.0) (0.8.0)\n",
            "Requirement already satisfied: protobuf>=3.6.1 in /usr/local/lib/python3.6/dist-packages (from tensorflow>=1.7.0) (3.7.1)\n",
            "Requirement already satisfied: tensorboard<1.15.0,>=1.14.0 in /usr/local/lib/python3.6/dist-packages (from tensorflow>=1.7.0) (1.14.0)\n",
            "Requirement already satisfied: numpy<2.0,>=1.14.5 in /usr/local/lib/python3.6/dist-packages (from tensorflow>=1.7.0) (1.16.4)\n",
            "Requirement already satisfied: six>=1.10.0 in /usr/local/lib/python3.6/dist-packages (from tensorflow>=1.7.0) (1.12.0)\n",
            "Requirement already satisfied: wheel>=0.26 in /usr/local/lib/python3.6/dist-packages (from tensorflow>=1.7.0) (0.33.4)\n",
            "Requirement already satisfied: h5py in /usr/local/lib/python3.6/dist-packages (from keras-applications>=1.0.6->tensorflow>=1.7.0) (2.8.0)\n",
            "Requirement already satisfied: setuptools in /usr/local/lib/python3.6/dist-packages (from protobuf>=3.6.1->tensorflow>=1.7.0) (41.0.1)\n",
            "Requirement already satisfied: werkzeug>=0.11.15 in /usr/local/lib/python3.6/dist-packages (from tensorboard<1.15.0,>=1.14.0->tensorflow>=1.7.0) (0.15.4)\n",
            "Requirement already satisfied: markdown>=2.6.8 in /usr/local/lib/python3.6/dist-packages (from tensorboard<1.15.0,>=1.14.0->tensorflow>=1.7.0) (3.1.1)\n"
          ],
          "name": "stdout"
        }
      ]
    },
    {
      "cell_type": "code",
      "metadata": {
        "id": "ydoY8xoIvDRA",
        "colab_type": "code",
        "outputId": "070866cd-f340-4799-9199-e6c31e695c89",
        "colab": {
          "base_uri": "https://localhost:8080/",
          "height": 102
        }
      },
      "source": [
        "pip install tensorflow-hub"
      ],
      "execution_count": 2,
      "outputs": [
        {
          "output_type": "stream",
          "text": [
            "Requirement already satisfied: tensorflow-hub in /usr/local/lib/python3.6/dist-packages (0.5.0)\n",
            "Requirement already satisfied: numpy>=1.12.0 in /usr/local/lib/python3.6/dist-packages (from tensorflow-hub) (1.16.4)\n",
            "Requirement already satisfied: protobuf>=3.4.0 in /usr/local/lib/python3.6/dist-packages (from tensorflow-hub) (3.7.1)\n",
            "Requirement already satisfied: six>=1.10.0 in /usr/local/lib/python3.6/dist-packages (from tensorflow-hub) (1.12.0)\n",
            "Requirement already satisfied: setuptools in /usr/local/lib/python3.6/dist-packages (from protobuf>=3.4.0->tensorflow-hub) (41.0.1)\n"
          ],
          "name": "stdout"
        }
      ]
    },
    {
      "cell_type": "code",
      "metadata": {
        "id": "8XjJiMDnvVd8",
        "colab_type": "code",
        "colab": {}
      },
      "source": [
        "import tensorflow_hub as hub\n",
        "import tensorflow as tf\n",
        "\n",
        "elmo = hub.Module(\"https://tfhub.dev/google/elmo/2\", trainable=True)"
      ],
      "execution_count": 0,
      "outputs": []
    },
    {
      "cell_type": "code",
      "metadata": {
        "id": "Aktrb3PJKMZr",
        "colab_type": "code",
        "colab": {}
      },
      "source": [
        "\n",
        "from sklearn.metrics.pairwise import cosine_similarity"
      ],
      "execution_count": 0,
      "outputs": []
    },
    {
      "cell_type": "code",
      "metadata": {
        "id": "OZGDR96bKtUe",
        "colab_type": "code",
        "colab": {}
      },
      "source": [
        "def elmo_vectors(x):\n",
        "   \n",
        "  embeddings=elmo(x, signature=\"default\", as_dict=True)[\"elmo\"]\n",
        "  \n",
        "  with tf.Session() as sess:\n",
        "    sess.run(tf.global_variables_initializer())\n",
        "    sess.run(tf.tables_initializer())\n",
        "    # return average of ELMo features\n",
        "    return sess.run(tf.reduce_mean(embeddings,1))"
      ],
      "execution_count": 0,
      "outputs": []
    },
    {
      "cell_type": "code",
      "metadata": {
        "id": "IzEG95TxKvyo",
        "colab_type": "code",
        "outputId": "31ba65ce-932e-482f-a007-1b7bd66571be",
        "colab": {
          "base_uri": "https://localhost:8080/",
          "height": 34
        }
      },
      "source": [
        "print(\"hello\")"
      ],
      "execution_count": 0,
      "outputs": [
        {
          "output_type": "stream",
          "text": [
            "hello\n"
          ],
          "name": "stdout"
        }
      ]
    },
    {
      "cell_type": "code",
      "metadata": {
        "id": "UdmTnSEGK22s",
        "colab_type": "code",
        "colab": {}
      },
      "source": [
        "corpus=[\"I'd like an apple juice\",\n",
        "                            \"An apple a day keeps the doctor away\",\n",
        "                             \"Eat apple every day\",\n",
        "                             \"We buy apples every week\",\n",
        "                             \"We use machine learning for text classification\",\n",
        "                             \"Text classification is subfield of machine learning\"]\n"
      ],
      "execution_count": 0,
      "outputs": []
    },
    {
      "cell_type": "code",
      "metadata": {
        "id": "X2Kd2uO5K6uK",
        "colab_type": "code",
        "outputId": "c13871bc-e698-45f4-f895-28da8429910c",
        "colab": {
          "base_uri": "https://localhost:8080/",
          "height": 136
        }
      },
      "source": [
        "elmo_embeddings=[]\n",
        "print (len(corpus))\n",
        "for i in range(len(corpus)):\n",
        "    print (corpus[i])\n",
        "    elmo_embeddings.append(elmo_vectors([corpus[i]])[0])\n",
        "   \n"
      ],
      "execution_count": 7,
      "outputs": [
        {
          "output_type": "stream",
          "text": [
            "6\n",
            "I'd like an apple juice\n",
            "An apple a day keeps the doctor away\n",
            "Eat apple every day\n",
            "We buy apples every week\n",
            "We use machine learning for text classification\n",
            "Text classification is subfield of machine learning\n"
          ],
          "name": "stdout"
        }
      ]
    },
    {
      "cell_type": "code",
      "metadata": {
        "id": "qJlIz_bBtgpB",
        "colab_type": "code",
        "outputId": "ee8b651d-09a6-4b34-bd02-e0f5c70270bd",
        "colab": {
          "base_uri": "https://localhost:8080/",
          "height": 51
        }
      },
      "source": [
        "x = [\"We buy apples every week\"]\n",
        "# Extract ELMo features \n",
        "\n",
        "embeddings=[]\n",
        "print (len(x))\n",
        "for i in range(len(x)):\n",
        "    print (x)\n",
        "    embeddings.append(elmo_vectors([x][0]))\n",
        "   "
      ],
      "execution_count": 13,
      "outputs": [
        {
          "output_type": "stream",
          "text": [
            "1\n",
            "['We buy apples every week']\n"
          ],
          "name": "stdout"
        }
      ]
    },
    {
      "cell_type": "code",
      "metadata": {
        "id": "A0CCeDb6wzSb",
        "colab_type": "code",
        "outputId": "27e1e6de-f1a9-4a7b-cf9f-4dae33c0e195",
        "colab": {
          "base_uri": "https://localhost:8080/",
          "height": 51
        }
      },
      "source": [
        "embeddings"
      ],
      "execution_count": 14,
      "outputs": [
        {
          "output_type": "execute_result",
          "data": {
            "text/plain": [
              "[array([[-0.1474548 , -0.25623205,  0.2023159 , ..., -0.11443615,\n",
              "         -0.03759002,  0.18829304]], dtype=float32)]"
            ]
          },
          "metadata": {
            "tags": []
          },
          "execution_count": 14
        }
      ]
    },
    {
      "cell_type": "code",
      "metadata": {
        "id": "aH_zmmTdyNVj",
        "colab_type": "code",
        "outputId": "f5896f01-6168-4f99-fb4c-849e6fc0e48b",
        "colab": {
          "base_uri": "https://localhost:8080/",
          "height": 221
        }
      },
      "source": [
        "elmo_embeddings"
      ],
      "execution_count": 15,
      "outputs": [
        {
          "output_type": "execute_result",
          "data": {
            "text/plain": [
              "[array([ 0.02739538, -0.10040505,  0.12195785, ..., -0.06023911,\n",
              "         0.19663572,  0.38090166], dtype=float32),\n",
              " array([ 0.08833801, -0.2139268 , -0.09389024, ..., -0.0492448 ,\n",
              "         0.08270925,  0.25595015], dtype=float32),\n",
              " array([ 0.45237514, -0.00928457,  0.52458614, ...,  0.00988385,\n",
              "        -0.03330074,  0.25460467], dtype=float32),\n",
              " array([-0.1474548 , -0.25623205,  0.2023159 , ..., -0.11443615,\n",
              "        -0.03759002,  0.18829304], dtype=float32),\n",
              " array([-0.44559923, -0.1429281 , -0.32497615, ...,  0.01917094,\n",
              "        -0.29726097, -0.02022669], dtype=float32),\n",
              " array([-0.25027972,  0.09800245, -0.10265832, ..., -0.22239073,\n",
              "         0.2981895 ,  0.00978716], dtype=float32)]"
            ]
          },
          "metadata": {
            "tags": []
          },
          "execution_count": 15
        }
      ]
    },
    {
      "cell_type": "code",
      "metadata": {
        "id": "aeJwJGF7pnow",
        "colab_type": "code",
        "colab": {}
      },
      "source": [
        "cosine_sim=cosine_similarity(embeddings[0], elmo_embeddings)"
      ],
      "execution_count": 0,
      "outputs": []
    },
    {
      "cell_type": "code",
      "metadata": {
        "id": "ln4fhWVELCIq",
        "colab_type": "code",
        "outputId": "981e76ed-ed76-4d56-d756-5f36732924bc",
        "colab": {
          "base_uri": "https://localhost:8080/",
          "height": 34
        }
      },
      "source": [
        "print(cosine_sim)"
      ],
      "execution_count": 17,
      "outputs": [
        {
          "output_type": "stream",
          "text": [
            "[[0.53863823 0.5824003  0.77609855 0.9999996  0.49227902 0.35490626]]\n"
          ],
          "name": "stdout"
        }
      ]
    },
    {
      "cell_type": "code",
      "metadata": {
        "id": "u5JCwEOssAFA",
        "colab_type": "code",
        "outputId": "fe2a87c4-fd6a-48d4-95d1-e88f6644e528",
        "colab": {
          "base_uri": "https://localhost:8080/",
          "height": 34
        }
      },
      "source": [
        "type(cosine_sim)"
      ],
      "execution_count": 0,
      "outputs": [
        {
          "output_type": "execute_result",
          "data": {
            "text/plain": [
              "numpy.ndarray"
            ]
          },
          "metadata": {
            "tags": []
          },
          "execution_count": 37
        }
      ]
    },
    {
      "cell_type": "code",
      "metadata": {
        "id": "mOH9teNI2L1E",
        "colab_type": "code",
        "outputId": "c94d5305-be0c-4ef7-9ddd-baa487620885",
        "colab": {
          "base_uri": "https://localhost:8080/",
          "height": 235
        }
      },
      "source": [
        "import pandas as pd\n",
        "df = pd.DataFrame(cosine_sim[0])\n",
        "df"
      ],
      "execution_count": 0,
      "outputs": [
        {
          "output_type": "execute_result",
          "data": {
            "text/html": [
              "<div>\n",
              "<style scoped>\n",
              "    .dataframe tbody tr th:only-of-type {\n",
              "        vertical-align: middle;\n",
              "    }\n",
              "\n",
              "    .dataframe tbody tr th {\n",
              "        vertical-align: top;\n",
              "    }\n",
              "\n",
              "    .dataframe thead th {\n",
              "        text-align: right;\n",
              "    }\n",
              "</style>\n",
              "<table border=\"1\" class=\"dataframe\">\n",
              "  <thead>\n",
              "    <tr style=\"text-align: right;\">\n",
              "      <th></th>\n",
              "      <th>0</th>\n",
              "    </tr>\n",
              "  </thead>\n",
              "  <tbody>\n",
              "    <tr>\n",
              "      <th>0</th>\n",
              "      <td>0.531078</td>\n",
              "    </tr>\n",
              "    <tr>\n",
              "      <th>1</th>\n",
              "      <td>0.493970</td>\n",
              "    </tr>\n",
              "    <tr>\n",
              "      <th>2</th>\n",
              "      <td>0.545111</td>\n",
              "    </tr>\n",
              "    <tr>\n",
              "      <th>3</th>\n",
              "      <td>0.524490</td>\n",
              "    </tr>\n",
              "    <tr>\n",
              "      <th>4</th>\n",
              "      <td>0.322107</td>\n",
              "    </tr>\n",
              "    <tr>\n",
              "      <th>5</th>\n",
              "      <td>0.326863</td>\n",
              "    </tr>\n",
              "  </tbody>\n",
              "</table>\n",
              "</div>"
            ],
            "text/plain": [
              "          0\n",
              "0  0.531078\n",
              "1  0.493970\n",
              "2  0.545111\n",
              "3  0.524490\n",
              "4  0.322107\n",
              "5  0.326863"
            ]
          },
          "metadata": {
            "tags": []
          },
          "execution_count": 47
        }
      ]
    },
    {
      "cell_type": "code",
      "metadata": {
        "id": "UAzVEK0zMVoj",
        "colab_type": "code",
        "outputId": "62343caa-5305-41e4-cd93-f6de85fd4ec5",
        "colab": {
          "base_uri": "https://localhost:8080/",
          "height": 221
        }
      },
      "source": [
        "elmo_embeddings"
      ],
      "execution_count": 0,
      "outputs": [
        {
          "output_type": "execute_result",
          "data": {
            "text/plain": [
              "[array([ 0.02739538, -0.10040505,  0.12195785, ..., -0.06023911,\n",
              "         0.19663572,  0.38090166], dtype=float32),\n",
              " array([ 0.08833801, -0.2139268 , -0.09389024, ..., -0.0492448 ,\n",
              "         0.08270925,  0.25595015], dtype=float32),\n",
              " array([ 0.45237514, -0.00928457,  0.52458614, ...,  0.00988385,\n",
              "        -0.03330074,  0.25460467], dtype=float32),\n",
              " array([-0.1474548 , -0.25623205,  0.2023159 , ..., -0.11443615,\n",
              "        -0.03759002,  0.18829304], dtype=float32),\n",
              " array([-0.44559923, -0.1429281 , -0.32497615, ...,  0.01917094,\n",
              "        -0.29726097, -0.02022669], dtype=float32),\n",
              " array([-0.25027972,  0.09800245, -0.10265832, ..., -0.22239073,\n",
              "         0.2981895 ,  0.00978716], dtype=float32)]"
            ]
          },
          "metadata": {
            "tags": []
          },
          "execution_count": 17
        }
      ]
    },
    {
      "cell_type": "code",
      "metadata": {
        "id": "56chLUEDpolV",
        "colab_type": "code",
        "outputId": "bd72319c-d4db-4753-9fe4-30bb41ec644e",
        "colab": {
          "base_uri": "https://localhost:8080/",
          "height": 204
        }
      },
      "source": [
        "pd.DataFrame(data=cosine_sim[1:,1:],   \n",
        "...              index=cosine_sim[1:,0],    \n",
        "...              columns=cosine_sim[0,1:])  "
      ],
      "execution_count": 0,
      "outputs": [
        {
          "output_type": "execute_result",
          "data": {
            "text/html": [
              "<div>\n",
              "<style scoped>\n",
              "    .dataframe tbody tr th:only-of-type {\n",
              "        vertical-align: middle;\n",
              "    }\n",
              "\n",
              "    .dataframe tbody tr th {\n",
              "        vertical-align: top;\n",
              "    }\n",
              "\n",
              "    .dataframe thead th {\n",
              "        text-align: right;\n",
              "    }\n",
              "</style>\n",
              "<table border=\"1\" class=\"dataframe\">\n",
              "  <thead>\n",
              "    <tr style=\"text-align: right;\">\n",
              "      <th></th>\n",
              "      <th>0.6098641157150269</th>\n",
              "      <th>0.5742871761322021</th>\n",
              "      <th>0.5386382341384888</th>\n",
              "      <th>0.3963817358016968</th>\n",
              "      <th>0.3573705554008484</th>\n",
              "    </tr>\n",
              "  </thead>\n",
              "  <tbody>\n",
              "    <tr>\n",
              "      <th>0.609864</th>\n",
              "      <td>1.000000</td>\n",
              "      <td>0.603607</td>\n",
              "      <td>0.582400</td>\n",
              "      <td>0.396488</td>\n",
              "      <td>0.398252</td>\n",
              "    </tr>\n",
              "    <tr>\n",
              "      <th>0.574287</th>\n",
              "      <td>0.603607</td>\n",
              "      <td>1.000000</td>\n",
              "      <td>0.776098</td>\n",
              "      <td>0.385840</td>\n",
              "      <td>0.334616</td>\n",
              "    </tr>\n",
              "    <tr>\n",
              "      <th>0.538638</th>\n",
              "      <td>0.582400</td>\n",
              "      <td>0.776098</td>\n",
              "      <td>0.999999</td>\n",
              "      <td>0.492279</td>\n",
              "      <td>0.354906</td>\n",
              "    </tr>\n",
              "    <tr>\n",
              "      <th>0.396382</th>\n",
              "      <td>0.396488</td>\n",
              "      <td>0.385840</td>\n",
              "      <td>0.492279</td>\n",
              "      <td>1.000000</td>\n",
              "      <td>0.730765</td>\n",
              "    </tr>\n",
              "    <tr>\n",
              "      <th>0.357371</th>\n",
              "      <td>0.398252</td>\n",
              "      <td>0.334616</td>\n",
              "      <td>0.354906</td>\n",
              "      <td>0.730765</td>\n",
              "      <td>1.000000</td>\n",
              "    </tr>\n",
              "  </tbody>\n",
              "</table>\n",
              "</div>"
            ],
            "text/plain": [
              "          0.609864  0.574287  0.538638  0.396382  0.357371\n",
              "0.609864  1.000000  0.603607  0.582400  0.396488  0.398252\n",
              "0.574287  0.603607  1.000000  0.776098  0.385840  0.334616\n",
              "0.538638  0.582400  0.776098  0.999999  0.492279  0.354906\n",
              "0.396382  0.396488  0.385840  0.492279  1.000000  0.730765\n",
              "0.357371  0.398252  0.334616  0.354906  0.730765  1.000000"
            ]
          },
          "metadata": {
            "tags": []
          },
          "execution_count": 19
        }
      ]
    },
    {
      "cell_type": "code",
      "metadata": {
        "id": "JXZVR-cUsA3x",
        "colab_type": "code",
        "outputId": "ccf620ee-4a17-4bb6-bd88-da2486d588da",
        "colab": {
          "base_uri": "https://localhost:8080/",
          "height": 34
        }
      },
      "source": [
        "pip install PyPDF2"
      ],
      "execution_count": 1,
      "outputs": [
        {
          "output_type": "stream",
          "text": [
            "Requirement already satisfied: PyPDF2 in /usr/local/lib/python3.6/dist-packages (1.26.0)\n"
          ],
          "name": "stdout"
        }
      ]
    },
    {
      "cell_type": "code",
      "metadata": {
        "id": "FIYypurGjkUh",
        "colab_type": "code",
        "colab": {
          "base_uri": "https://localhost:8080/",
          "height": 224
        },
        "outputId": "323c3e75-29e6-452c-82c9-1f758d3a3f7e"
      },
      "source": [
        "!apt-get install -y -qq software-properties-common python-software-properties module-init-tools\n",
        "!add-apt-repository -y ppa:alessandro-strada/ppa 2>&1 > /dev/null\n",
        "!apt-get update -qq 2>&1 > /dev/null\n",
        "!apt-get -y install -qq google-drive-ocamlfuse fuse\n",
        "from google.colab import auth\n",
        "auth.authenticate_user()\n",
        "from oauth2client.client import GoogleCredentials\n",
        "creds = GoogleCredentials.get_application_default()\n",
        "import getpass\n",
        "!google-drive-ocamlfuse -headless -id={creds.client_id} -secret={creds.client_secret} < /dev/null 2>&1 | grep URL\n",
        "vcode = getpass.getpass()\n",
        "!echo {vcode} | google-drive-ocamlfuse -headless -id={creds.client_id} -secret={creds.client_secret}"
      ],
      "execution_count": 6,
      "outputs": [
        {
          "output_type": "stream",
          "text": [
            "E: Package 'python-software-properties' has no installation candidate\n",
            "Selecting previously unselected package google-drive-ocamlfuse.\n",
            "(Reading database ... 130963 files and directories currently installed.)\n",
            "Preparing to unpack .../google-drive-ocamlfuse_0.7.6-0ubuntu1~ubuntu18.04.1_amd64.deb ...\n",
            "Unpacking google-drive-ocamlfuse (0.7.6-0ubuntu1~ubuntu18.04.1) ...\n",
            "Setting up google-drive-ocamlfuse (0.7.6-0ubuntu1~ubuntu18.04.1) ...\n",
            "Processing triggers for man-db (2.8.3-2ubuntu0.1) ...\n",
            "Please, open the following URL in a web browser: https://accounts.google.com/o/oauth2/auth?client_id=32555940559.apps.googleusercontent.com&redirect_uri=urn%3Aietf%3Awg%3Aoauth%3A2.0%3Aoob&scope=https%3A%2F%2Fwww.googleapis.com%2Fauth%2Fdrive&response_type=code&access_type=offline&approval_prompt=force\n",
            "··········\n",
            "Please, open the following URL in a web browser: https://accounts.google.com/o/oauth2/auth?client_id=32555940559.apps.googleusercontent.com&redirect_uri=urn%3Aietf%3Awg%3Aoauth%3A2.0%3Aoob&scope=https%3A%2F%2Fwww.googleapis.com%2Fauth%2Fdrive&response_type=code&access_type=offline&approval_prompt=force\n",
            "Please enter the verification code: Access token retrieved correctly.\n"
          ],
          "name": "stdout"
        }
      ]
    },
    {
      "cell_type": "code",
      "metadata": {
        "id": "fzlz-1C0lNZs",
        "colab_type": "code",
        "colab": {
          "base_uri": "https://localhost:8080/",
          "height": 34
        },
        "outputId": "83de6c55-2d7b-4692-baaa-312e97777ab8"
      },
      "source": [
        "!mkdir drive\n",
        "!google-drive-ocamlfuse drive\n",
        "!ls drive/\"Colab Notebooks\""
      ],
      "execution_count": 7,
      "outputs": [
        {
          "output_type": "stream",
          "text": [
            "policy.pdf  Untitled0.ipynb\n"
          ],
          "name": "stdout"
        }
      ]
    },
    {
      "cell_type": "code",
      "metadata": {
        "id": "8omHAr-ClU7g",
        "colab_type": "code",
        "colab": {}
      },
      "source": [
        "import PyPDF2  \n",
        "mypdf = open('drive/Colab Notebooks/policy.pdf', mode='rb') "
      ],
      "execution_count": 0,
      "outputs": []
    },
    {
      "cell_type": "code",
      "metadata": {
        "id": "rW4WFxAjlkmM",
        "colab_type": "code",
        "colab": {}
      },
      "source": [
        "pdf_document = PyPDF2.PdfFileReader(mypdf)  "
      ],
      "execution_count": 0,
      "outputs": []
    },
    {
      "cell_type": "code",
      "metadata": {
        "id": "Xe0ArAkEloW1",
        "colab_type": "code",
        "colab": {
          "base_uri": "https://localhost:8080/",
          "height": 34
        },
        "outputId": "189bf4cb-99dc-4390-e672-90bdad96f050"
      },
      "source": [
        "pdf_document.numPages  "
      ],
      "execution_count": 22,
      "outputs": [
        {
          "output_type": "execute_result",
          "data": {
            "text/plain": [
              "40"
            ]
          },
          "metadata": {
            "tags": []
          },
          "execution_count": 22
        }
      ]
    },
    {
      "cell_type": "code",
      "metadata": {
        "id": "UuVeH9dbluMY",
        "colab_type": "code",
        "colab": {
          "base_uri": "https://localhost:8080/",
          "height": 802
        },
        "outputId": "c32b4e64-fc25-4e3f-e58f-d28250d347be"
      },
      "source": [
        "first_page = pdf_document.getPage(9)\n",
        "\n",
        "text=(first_page.extractText()) \n",
        "print(text)"
      ],
      "execution_count": 23,
      "outputs": [
        {
          "output_type": "stream",
          "text": [
            "10Market valueThe cost of replacing \n",
            "your vehicle with one of the same make, model, specification and condition.PartnerThe husband or wife of the principal policyholder and/or the vehicle policyholder, or the domestic or civil partner of the principal policyholder and/or the vehicle policyholder, living at the same address \n",
            "\n",
            "and sharing financial responsibilities. This does not include any business partners or associates.\n",
            "Period of insuranceThe period of time covered by this policy, as shown in your \n",
            "schedule, or until cancelled. Each renewal \n",
            "\n",
            "represents the start of a new period of insurance. \n",
            "Personal belongingsPersonal property within \n",
            "your vehicle. This includes portable audio equipment, multi-media equipment, \n",
            "communication equipment, personal computers, cameras, satellite navigation and radar detection systems \n",
            "not permanently fitted to your vehicle.Persons Insured\n",
            "Principal policyholder\n",
            "The person who has entered into this contract of insurance on behalf of himself/herself and on behalf \n",
            "\n",
            "of each vehicle policyholder and/or named driver.Vehicle policyholder\n",
            "Person nominated by the principal policyholder as being the main user of any vehicle insured under \n",
            "\n",
            "this policy as described in your schedule, providing the \n",
            "certificate of motor insurance allows that \n",
            "person to drive the motor vehicle.Where the \n",
            "vehicle policyholder is the owner/registered keeper of the vehicle any benefits which \n",
            "may be due under Sections 1, 3, 6, 7, 8, 11 and 14 may be paid, at our discretion to them instead of \n",
            "\n",
            "the principal policyholder named in your schedule.Named driverPerson nominated by the principal policyholder as being a user (but not the main user) of any \n",
            "motor vehicle insured under this policy as described in your \n",
            "schedule, providing the \n",
            "certificate of \n",
            "motor insurance allows that person to drive the motor vehicle (Named drivers are not entitled to \n",
            "\n",
            "benefits provided under Section 2 Œ Driving other cars).\n",
            "Repair qualityBodywork repairs, paint repairs and workmanship (the work carried out by skilled technicians) on repairs \n",
            "\n",
            "to your vehicle by our approved repairer\n",
            ".Road Traffic Acts\n",
            "Any Acts, Laws or Regulations, which govern the driving or use of any motor vehicle in Great Britain, \n",
            "\n",
            "Northern Ireland, the Channel Islands and the Isle of Man.\n",
            "ScheduleThe document which gives details of the cover provided.\n",
            "Territorial limits\n",
            "Great Britain, Northern Ireland, the Channel Islands and the Isle of Man.\n",
            "TheftTheft, attempted theft or taking your vehicle without your consent.We/us\n",
            "Aviva Insurance Limited and any representative appointed by us to act on our behalf, except where \n",
            "\n",
            "otherwise shown for any policy section.J14431_NMDMG10249_0217.indd   1003/01/17   9:35 am\n"
          ],
          "name": "stdout"
        }
      ]
    },
    {
      "cell_type": "code",
      "metadata": {
        "id": "uu5_rjPwutwV",
        "colab_type": "code",
        "colab": {}
      },
      "source": [
        "import spacy\n",
        "nlp = spacy.load(\"en_core_web_sm\",disable=\"ner\")"
      ],
      "execution_count": 0,
      "outputs": []
    },
    {
      "cell_type": "code",
      "metadata": {
        "id": "ftAX_vlauxma",
        "colab_type": "code",
        "colab": {
          "base_uri": "https://localhost:8080/",
          "height": 54
        },
        "outputId": "e0213853-12ab-43ea-d64b-78126f7ad5b7"
      },
      "source": [
        "text = text.lower().replace('\\n', ' ').replace('\\t', ' ').replace('\\xa0',' ') \n",
        "text = ' '.join(text.split())\n",
        "text"
      ],
      "execution_count": 25,
      "outputs": [
        {
          "output_type": "execute_result",
          "data": {
            "text/plain": [
              "'10market valuethe cost of replacing your vehicle with one of the same make, model, specification and condition.partnerthe husband or wife of the principal policyholder and/or the vehicle policyholder, or the domestic or civil partner of the principal policyholder and/or the vehicle policyholder, living at the same address and sharing financial responsibilities. this does not include any business partners or associates. period of insurancethe period of time covered by this policy, as shown in your schedule, or until cancelled. each renewal represents the start of a new period of insurance. personal belongingspersonal property within your vehicle. this includes portable audio equipment, multi-media equipment, communication equipment, personal computers, cameras, satellite navigation and radar detection systems not permanently fitted to your vehicle.persons insured principal policyholder the person who has entered into this contract of insurance on behalf of himself/herself and on behalf of each vehicle policyholder and/or named driver.vehicle policyholder person nominated by the principal policyholder as being the main user of any vehicle insured under this policy as described in your schedule, providing the certificate of motor insurance allows that person to drive the motor vehicle.where the vehicle policyholder is the owner/registered keeper of the vehicle any benefits which may be due under sections 1, 3, 6, 7, 8, 11 and 14 may be paid, at our discretion to them instead of the principal policyholder named in your schedule.named driverperson nominated by the principal policyholder as being a user (but not the main user) of any motor vehicle insured under this policy as described in your schedule, providing the certificate of motor insurance allows that person to drive the motor vehicle (named drivers are not entitled to benefits provided under section 2 œ driving other cars). repair qualitybodywork repairs, paint repairs and workmanship (the work carried out by skilled technicians) on repairs to your vehicle by our approved repairer .road traffic acts any acts, laws or regulations, which govern the driving or use of any motor vehicle in great britain, northern ireland, the channel islands and the isle of man. schedulethe document which gives details of the cover provided. territorial limits great britain, northern ireland, the channel islands and the isle of man. thefttheft, attempted theft or taking your vehicle without your consent.we/us aviva insurance limited and any representative appointed by us to act on our behalf, except where otherwise shown for any policy section.j14431_nmdmg10249_0217.indd 1003/01/17 9:35 am'"
            ]
          },
          "metadata": {
            "tags": []
          },
          "execution_count": 25
        }
      ]
    },
    {
      "cell_type": "code",
      "metadata": {
        "id": "xd3eIrGiu2NZ",
        "colab_type": "code",
        "colab": {
          "base_uri": "https://localhost:8080/",
          "height": 54
        },
        "outputId": "c0cd5103-7843-4253-89e9-6e6ccd841db3"
      },
      "source": [
        "doc = nlp(text)\n",
        "doc"
      ],
      "execution_count": 26,
      "outputs": [
        {
          "output_type": "execute_result",
          "data": {
            "text/plain": [
              "10market valuethe cost of replacing your vehicle with one of the same make, model, specification and condition.partnerthe husband or wife of the principal policyholder and/or the vehicle policyholder, or the domestic or civil partner of the principal policyholder and/or the vehicle policyholder, living at the same address and sharing financial responsibilities. this does not include any business partners or associates. period of insurancethe period of time covered by this policy, as shown in your schedule, or until cancelled. each renewal represents the start of a new period of insurance. personal belongingspersonal property within your vehicle. this includes portable audio equipment, multi-media equipment, communication equipment, personal computers, cameras, satellite navigation and radar detection systems not permanently fitted to your vehicle.persons insured principal policyholder the person who has entered into this contract of insurance on behalf of himself/herself and on behalf of each vehicle policyholder and/or named driver.vehicle policyholder person nominated by the principal policyholder as being the main user of any vehicle insured under this policy as described in your schedule, providing the certificate of motor insurance allows that person to drive the motor vehicle.where the vehicle policyholder is the owner/registered keeper of the vehicle any benefits which may be due under sections 1, 3, 6, 7, 8, 11 and 14 may be paid, at our discretion to them instead of the principal policyholder named in your schedule.named driverperson nominated by the principal policyholder as being a user (but not the main user) of any motor vehicle insured under this policy as described in your schedule, providing the certificate of motor insurance allows that person to drive the motor vehicle (named drivers are not entitled to benefits provided under section 2 œ driving other cars). repair qualitybodywork repairs, paint repairs and workmanship (the work carried out by skilled technicians) on repairs to your vehicle by our approved repairer .road traffic acts any acts, laws or regulations, which govern the driving or use of any motor vehicle in great britain, northern ireland, the channel islands and the isle of man. schedulethe document which gives details of the cover provided. territorial limits great britain, northern ireland, the channel islands and the isle of man. thefttheft, attempted theft or taking your vehicle without your consent.we/us aviva insurance limited and any representative appointed by us to act on our behalf, except where otherwise shown for any policy section.j14431_nmdmg10249_0217.indd 1003/01/17 9:35 am"
            ]
          },
          "metadata": {
            "tags": []
          },
          "execution_count": 26
        }
      ]
    },
    {
      "cell_type": "code",
      "metadata": {
        "id": "AJDygTgEGBiZ",
        "colab_type": "code",
        "colab": {}
      },
      "source": [
        "def elmo_vectors(x):\n",
        "   \n",
        "  embeddings=elmo(x, signature=\"default\", as_dict=True)[\"elmo\"]\n",
        "  \n",
        "  with tf.Session() as sess:\n",
        "    sess.run(tf.global_variables_initializer())\n",
        "    sess.run(tf.tables_initializer())\n",
        "    # return average of ELMo features\n",
        "    return sess.run(tf.reduce_mean(embeddings,1))"
      ],
      "execution_count": 0,
      "outputs": []
    },
    {
      "cell_type": "code",
      "metadata": {
        "id": "sgREqqPtu8Bu",
        "colab_type": "code",
        "colab": {}
      },
      "source": [
        "sentences = []\n",
        "for i in doc.sents:\n",
        "  if len(i)>1:\n",
        "    sentences.append(i.string.strip())"
      ],
      "execution_count": 0,
      "outputs": []
    },
    {
      "cell_type": "code",
      "metadata": {
        "id": "OAfCM5XRwy1R",
        "colab_type": "code",
        "colab": {
          "base_uri": "https://localhost:8080/",
          "height": 241
        },
        "outputId": "3399f5ea-be5c-455b-a1e8-c3bc78fe76ec"
      },
      "source": [
        "sentences"
      ],
      "execution_count": 10,
      "outputs": [
        {
          "output_type": "execute_result",
          "data": {
            "text/plain": [
              "['10market valuethe cost of replacing your vehicle with one of the same make, model, specification and condition.partnerthe husband or wife of the principal policyholder and/or the vehicle policyholder, or the domestic or civil partner of the principal policyholder and/or the vehicle policyholder, living at the same address and sharing financial responsibilities.',\n",
              " 'this does not include any business partners or associates.',\n",
              " 'period of insurancethe period of time covered by this policy, as shown in your schedule, or until cancelled.',\n",
              " 'each renewal represents the start of a new period of insurance.',\n",
              " 'personal belongingspersonal property within your vehicle.',\n",
              " 'this includes portable audio equipment, multi-media equipment, communication equipment, personal computers, cameras, satellite navigation and radar detection systems not permanently fitted to your vehicle.persons insured principal policyholder the person who has entered into this contract of insurance on behalf of himself/herself and on behalf of each vehicle policyholder and/or named driver.vehicle policyholder person nominated by the principal policyholder as being the main user of any vehicle insured under this policy as described in your schedule, providing the certificate of motor insurance allows that person to drive the motor vehicle.where the vehicle policyholder is the owner/registered keeper of the vehicle any benefits which may be due under sections 1, 3, 6, 7, 8, 11 and 14 may be paid, at our discretion to them instead of the principal policyholder named in your schedule.named driverperson nominated by the principal policyholder as being a user (but not the main user) of any motor vehicle insured under this policy as described in your schedule, providing the certificate of motor insurance allows that person to drive the motor vehicle (named drivers are not entitled to benefits provided under section 2 œ driving other cars).',\n",
              " 'repair qualitybodywork repairs, paint repairs and workmanship (',\n",
              " 'the work carried out by skilled technicians) on repairs to your vehicle by our approved repairer .road traffic acts any acts, laws or regulations, which govern the driving or use of any motor vehicle in great britain, northern ireland, the channel islands and the isle of man.',\n",
              " 'schedulethe document which gives details of the cover provided.',\n",
              " 'territorial limits great britain, northern ireland, the channel islands and the isle of man.',\n",
              " 'thefttheft, attempted theft or taking your vehicle without your consent.we/us aviva insurance limited and any representative appointed by us to act on our behalf, except where otherwise shown for any policy',\n",
              " '1003/01/17 9:35 am']"
            ]
          },
          "metadata": {
            "tags": []
          },
          "execution_count": 10
        }
      ]
    },
    {
      "cell_type": "code",
      "metadata": {
        "id": "cw5qkiW021Iv",
        "colab_type": "code",
        "colab": {}
      },
      "source": [
        "import tensorflow_hub as hub\n",
        "import tensorflow as tf\n",
        "\n",
        "url = \"https://tfhub.dev/google/elmo/2\"\n",
        "embed = hub.Module(url)"
      ],
      "execution_count": 0,
      "outputs": []
    },
    {
      "cell_type": "code",
      "metadata": {
        "id": "JL4z19SxsbnJ",
        "colab_type": "code",
        "colab": {
          "base_uri": "https://localhost:8080/",
          "height": 258
        },
        "outputId": "4484969c-37b2-4a2f-835e-ce3571fa9b0e"
      },
      "source": [
        "elmo = hub.Module(\"https://tfhub.dev/google/elmo/2\", trainable=True)\n",
        "elmo_embeddings=[]\n",
        "print (len(sentences))\n",
        "for i in range(len(sentences)):\n",
        "    print (sentences[i])\n",
        "    elmo_embeddings.append(elmo_vectors([sentences[i]])[0])\n",
        "   "
      ],
      "execution_count": 30,
      "outputs": [
        {
          "output_type": "stream",
          "text": [
            "12\n",
            "10market valuethe cost of replacing your vehicle with one of the same make, model, specification and condition.partnerthe husband or wife of the principal policyholder and/or the vehicle policyholder, or the domestic or civil partner of the principal policyholder and/or the vehicle policyholder, living at the same address and sharing financial responsibilities.\n",
            "this does not include any business partners or associates.\n",
            "period of insurancethe period of time covered by this policy, as shown in your schedule, or until cancelled.\n",
            "each renewal represents the start of a new period of insurance.\n",
            "personal belongingspersonal property within your vehicle.\n",
            "this includes portable audio equipment, multi-media equipment, communication equipment, personal computers, cameras, satellite navigation and radar detection systems not permanently fitted to your vehicle.persons insured principal policyholder the person who has entered into this contract of insurance on behalf of himself/herself and on behalf of each vehicle policyholder and/or named driver.vehicle policyholder person nominated by the principal policyholder as being the main user of any vehicle insured under this policy as described in your schedule, providing the certificate of motor insurance allows that person to drive the motor vehicle.where the vehicle policyholder is the owner/registered keeper of the vehicle any benefits which may be due under sections 1, 3, 6, 7, 8, 11 and 14 may be paid, at our discretion to them instead of the principal policyholder named in your schedule.named driverperson nominated by the principal policyholder as being a user (but not the main user) of any motor vehicle insured under this policy as described in your schedule, providing the certificate of motor insurance allows that person to drive the motor vehicle (named drivers are not entitled to benefits provided under section 2 œ driving other cars).\n",
            "repair qualitybodywork repairs, paint repairs and workmanship (\n",
            "the work carried out by skilled technicians) on repairs to your vehicle by our approved repairer .road traffic acts any acts, laws or regulations, which govern the driving or use of any motor vehicle in great britain, northern ireland, the channel islands and the isle of man.\n",
            "schedulethe document which gives details of the cover provided.\n",
            "territorial limits great britain, northern ireland, the channel islands and the isle of man.\n",
            "thefttheft, attempted theft or taking your vehicle without your consent.we/us aviva insurance limited and any representative appointed by us to act on our behalf, except where otherwise shown for any policy\n",
            "1003/01/17 9:35 am\n"
          ],
          "name": "stdout"
        }
      ]
    },
    {
      "cell_type": "code",
      "metadata": {
        "id": "zcypmGlW3Phq",
        "colab_type": "code",
        "colab": {}
      },
      "source": [
        "from sklearn.decomposition import PCA\n",
        "pca= PCA(n_components=11) #reduce down to 50 dim\n",
        "pcy = pca.fit_transform(x)\n",
        "from sklearn.manifold import TSNE\n",
        "y = TSNE(n_components=2).fit_transform(x) # further reduce to 2 dim using t-SNE"
      ],
      "execution_count": 0,
      "outputs": []
    },
    {
      "cell_type": "code",
      "metadata": {
        "id": "s7TFRE66s-Yk",
        "colab_type": "code",
        "colab": {
          "base_uri": "https://localhost:8080/",
          "height": 17
        },
        "outputId": "00d16498-e4dc-4b34-cea9-c6848861ffe6"
      },
      "source": [
        "import plotly.plotly as py\n",
        "import plotly.graph_objs as go\n",
        "from plotly.offline import download_plotlyjs, init_notebook_mode, plot, iplot\n",
        "init_notebook_mode(connected=True)\n",
        "data = [\n",
        "    go.Scatter(\n",
        "        x=[i[0] for i in y],\n",
        "        y=[i[1] for i in y],\n",
        "        mode='markers',\n",
        "        text=[i for i in sentences],\n",
        "    marker=dict(\n",
        "        size=16,\n",
        "        color = [len(i) for i in sentences], #set color equal to a variable\n",
        "        opacity= 0.8,\n",
        "        colorscale='Viridis',\n",
        "        showscale=False\n",
        "    )\n",
        "    )\n",
        "]\n",
        "layout = go.Layout()\n",
        "layout = dict(\n",
        "              yaxis = dict(zeroline = False),\n",
        "              xaxis = dict(zeroline = False)\n",
        "             )\n",
        "fig = go.Figure(data=data, layout=layout)\n",
        "file = plot(fig, filename='Sentence encode.html')\n",
        "from google.colab import files\n",
        "files.download('Sentence encode.html')"
      ],
      "execution_count": 27,
      "outputs": [
        {
          "output_type": "display_data",
          "data": {
            "text/vnd.plotly.v1+html": "<script type=\"text/javascript\">window.PlotlyConfig = {MathJaxConfig: 'local'};</script><script type=\"text/javascript\">if (window.MathJax) {MathJax.Hub.Config({SVG: {font: \"STIX-Web\"}});}</script><script>requirejs.config({paths: { 'plotly': ['https://cdn.plot.ly/plotly-latest.min']},});if(!window._Plotly) {require(['plotly'],function(plotly) {window._Plotly=plotly;});}</script>",
            "text/html": [
              "<script type=\"text/javascript\">window.PlotlyConfig = {MathJaxConfig: 'local'};</script><script type=\"text/javascript\">if (window.MathJax) {MathJax.Hub.Config({SVG: {font: \"STIX-Web\"}});}</script><script>requirejs.config({paths: { 'plotly': ['https://cdn.plot.ly/plotly-latest.min']},});if(!window._Plotly) {require(['plotly'],function(plotly) {window._Plotly=plotly;});}</script>"
            ]
          },
          "metadata": {
            "tags": []
          }
        }
      ]
    },
    {
      "cell_type": "code",
      "metadata": {
        "id": "DgShSP6ptezB",
        "colab_type": "code",
        "colab": {
          "base_uri": "https://localhost:8080/",
          "height": 51
        },
        "outputId": "f581e1ef-12b4-4776-bff9-121d88596283"
      },
      "source": [
        "query=[input(\"Enter words you would like to search:\")]\n",
        "query"
      ],
      "execution_count": 49,
      "outputs": [
        {
          "output_type": "stream",
          "text": [
            "Enter words you would like to search:territorial limits great britain, northern ireland, the channel islands and the isle of man.\n"
          ],
          "name": "stdout"
        },
        {
          "output_type": "execute_result",
          "data": {
            "text/plain": [
              "['territorial limits great britain, northern ireland, the channel islands and the isle of man.']"
            ]
          },
          "metadata": {
            "tags": []
          },
          "execution_count": 49
        }
      ]
    },
    {
      "cell_type": "code",
      "metadata": {
        "id": "hwa51UZiBxky",
        "colab_type": "code",
        "colab": {
          "base_uri": "https://localhost:8080/",
          "height": 34
        },
        "outputId": "c46ebf37-01b8-4b97-ef40-7aa7ff27929d"
      },
      "source": [
        "query"
      ],
      "execution_count": 50,
      "outputs": [
        {
          "output_type": "execute_result",
          "data": {
            "text/plain": [
              "['territorial limits great britain, northern ireland, the channel islands and the isle of man.']"
            ]
          },
          "metadata": {
            "tags": []
          },
          "execution_count": 50
        }
      ]
    },
    {
      "cell_type": "code",
      "metadata": {
        "id": "ryH6BIfNAiY5",
        "colab_type": "code",
        "colab": {
          "base_uri": "https://localhost:8080/",
          "height": 51
        },
        "outputId": "19deb3e2-eddc-4694-fdea-cef704321a6a"
      },
      "source": [
        "elmo_embeddings1=[]\n",
        "print (len(query))\n",
        "for i in range(len(query)):\n",
        "    print (query[i])\n",
        "    elmo_embeddings1=elmo_vectors([query[i]])[0]"
      ],
      "execution_count": 51,
      "outputs": [
        {
          "output_type": "stream",
          "text": [
            "1\n",
            "territorial limits great britain, northern ireland, the channel islands and the isle of man.\n"
          ],
          "name": "stdout"
        }
      ]
    },
    {
      "cell_type": "code",
      "metadata": {
        "id": "1tCczm-Xt4Ms",
        "colab_type": "code",
        "colab": {
          "base_uri": "https://localhost:8080/",
          "height": 51
        },
        "outputId": "25a3f17f-8971-4461-b01f-bcb59b86ccda"
      },
      "source": [
        "from sklearn.metrics.pairwise import cosine_similarity\n",
        "cosine_sim=cosine_similarity([elmo_embeddings1],elmo_embeddings)\n",
        "print(cosine_sim)"
      ],
      "execution_count": 62,
      "outputs": [
        {
          "output_type": "stream",
          "text": [
            "[[0.3942628  0.36300647 0.37392676 0.35225567 0.4102624  0.38682312\n",
            "  0.29173183 0.66839796 0.38684356 1.0000002  0.46997198 0.27007592]]\n"
          ],
          "name": "stdout"
        }
      ]
    }
  ]
}