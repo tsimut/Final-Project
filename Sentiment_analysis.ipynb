{
  "nbformat": 4,
  "nbformat_minor": 0,
  "metadata": {
    "colab": {
      "name": "Untitled2.ipynb",
      "version": "0.3.2",
      "provenance": [],
      "include_colab_link": true
    },
    "kernelspec": {
      "name": "python3",
      "display_name": "Python 3"
    }
  },
  "cells": [
    {
      "cell_type": "markdown",
      "metadata": {
        "id": "view-in-github",
        "colab_type": "text"
      },
      "source": [
        "<a href=\"https://colab.research.google.com/github/tsimut/Final-Project/blob/master/Sentiment_analysis.ipynb\" target=\"_parent\"><img src=\"https://colab.research.google.com/assets/colab-badge.svg\" alt=\"Open In Colab\"/></a>"
      ]
    },
    {
      "cell_type": "code",
      "metadata": {
        "id": "8AkWuI267CaE",
        "colab_type": "code",
        "colab": {}
      },
      "source": [
        "from bs4 import BeautifulSoup\n",
        "import requests\n",
        "import time\n",
        "import pandas as pd\n",
        "import numpy as np"
      ],
      "execution_count": 0,
      "outputs": []
    },
    {
      "cell_type": "code",
      "metadata": {
        "id": "_89DS5o7A1Ir",
        "colab_type": "code",
        "colab": {}
      },
      "source": [
        "review=[]\n",
        "rating=[]\n",
        "name=[]"
      ],
      "execution_count": 0,
      "outputs": []
    },
    {
      "cell_type": "code",
      "metadata": {
        "id": "KTeNDpUYA6Yr",
        "colab_type": "code",
        "colab": {}
      },
      "source": [
        "page_count = 0\n",
        "while page_count <10:\n",
        "    \n",
        "    url = \"https://www.consumeraffairs.com/travel/uber.html?page=%s\" %(page_count)\n",
        "    page = requests.get(url)\n",
        "    soup = BeautifulSoup(page.content, 'html.parser')\n",
        "    reviews=soup.find(id=\"reviews-container\")\n",
        "    \n",
        "    comments=soup.find_all(\"div\", class_=\"rvw-bd ca-txt-bd-2\")\n",
        "    for ct in comments:\n",
        "        review.append(ct.find(\"p\").get_text())\n",
        "    \n",
        "    names=reviews.find_all(\"div\",class_=\"rvw-aut__inf\")\n",
        "    for n in names:\n",
        "      name.append(n.find(\"strong\",class_=\"rvw-aut__inf-nm\").get_text())\n",
        "\n",
        "    try:\n",
        "      star=reviews.find_all(\"div\",class_=\"rvw__hdr-stat\")\n",
        "      for st in star:\n",
        "        rating.append(st.find(\"img\")[\"data-rating\"])\n",
        "    except:\n",
        "      continue\n",
        "    time.sleep(0.05)  \n",
        "    page_count += 1\n",
        "    "
      ],
      "execution_count": 0,
      "outputs": []
    },
    {
      "cell_type": "code",
      "metadata": {
        "id": "kIEI44ohEDRh",
        "colab_type": "code",
        "colab": {
          "base_uri": "https://localhost:8080/",
          "height": 669
        },
        "outputId": "193d869c-81e7-4a63-8f89-a7144d8b7868"
      },
      "source": [
        "Reviews = pd.DataFrame({\n",
        "\"Name\": name,\n",
        "\"Rating\": rating,\n",
        "\"Review\":review\n",
        "})\n",
        "\n",
        "\n",
        "Reviews.head(20)"
      ],
      "execution_count": 4,
      "outputs": [
        {
          "output_type": "execute_result",
          "data": {
            "text/html": [
              "<div>\n",
              "<style scoped>\n",
              "    .dataframe tbody tr th:only-of-type {\n",
              "        vertical-align: middle;\n",
              "    }\n",
              "\n",
              "    .dataframe tbody tr th {\n",
              "        vertical-align: top;\n",
              "    }\n",
              "\n",
              "    .dataframe thead th {\n",
              "        text-align: right;\n",
              "    }\n",
              "</style>\n",
              "<table border=\"1\" class=\"dataframe\">\n",
              "  <thead>\n",
              "    <tr style=\"text-align: right;\">\n",
              "      <th></th>\n",
              "      <th>Name</th>\n",
              "      <th>Rating</th>\n",
              "      <th>Review</th>\n",
              "    </tr>\n",
              "  </thead>\n",
              "  <tbody>\n",
              "    <tr>\n",
              "      <th>0</th>\n",
              "      <td>Dustin of St Louis, MO</td>\n",
              "      <td>4.0</td>\n",
              "      <td>I have had a few great experiences and a coupl...</td>\n",
              "    </tr>\n",
              "    <tr>\n",
              "      <th>1</th>\n",
              "      <td>John of Duncansville, PA</td>\n",
              "      <td>5.0</td>\n",
              "      <td>I’ve never used Lyft before, and the only cab ...</td>\n",
              "    </tr>\n",
              "    <tr>\n",
              "      <th>2</th>\n",
              "      <td>Pedro of Boston, Massachusetts</td>\n",
              "      <td>5.0</td>\n",
              "      <td>I've never had a negative experience with Uber...</td>\n",
              "    </tr>\n",
              "    <tr>\n",
              "      <th>3</th>\n",
              "      <td>Barbara of Chicago, IL</td>\n",
              "      <td>4.0</td>\n",
              "      <td>I have always been skeptical about rideshare s...</td>\n",
              "    </tr>\n",
              "    <tr>\n",
              "      <th>4</th>\n",
              "      <td>Jennifer of Philadelphia , PA</td>\n",
              "      <td>5.0</td>\n",
              "      <td>I have used Uber several times and so far I am...</td>\n",
              "    </tr>\n",
              "    <tr>\n",
              "      <th>5</th>\n",
              "      <td>Yuge of Fayetteville, AR</td>\n",
              "      <td>1.0</td>\n",
              "      <td>First ** time I called you, my drivers says, \"...</td>\n",
              "    </tr>\n",
              "    <tr>\n",
              "      <th>6</th>\n",
              "      <td>Ash of Delhi, Other</td>\n",
              "      <td>1.0</td>\n",
              "      <td>Uber does only lip service in term of driver q...</td>\n",
              "    </tr>\n",
              "    <tr>\n",
              "      <th>7</th>\n",
              "      <td>Preeti of Irving, TX</td>\n",
              "      <td>1.0</td>\n",
              "      <td>I requested a ride from Fort Worth, South Hend...</td>\n",
              "    </tr>\n",
              "    <tr>\n",
              "      <th>8</th>\n",
              "      <td>Ridhi of Chennai, Other</td>\n",
              "      <td>1.0</td>\n",
              "      <td>Earlier, Uber was great. They used to provide ...</td>\n",
              "    </tr>\n",
              "    <tr>\n",
              "      <th>9</th>\n",
              "      <td>Lev of Bayside, NY</td>\n",
              "      <td>1.0</td>\n",
              "      <td>I have been using Uber as a rider from 2016 wi...</td>\n",
              "    </tr>\n",
              "    <tr>\n",
              "      <th>10</th>\n",
              "      <td>PIYUSH of Gujarat, Other</td>\n",
              "      <td>1.0</td>\n",
              "      <td>Uber Eats cancel order without refund. @UberEa...</td>\n",
              "    </tr>\n",
              "    <tr>\n",
              "      <th>11</th>\n",
              "      <td>Neeraj of Gidderbaha, Other</td>\n",
              "      <td>1.0</td>\n",
              "      <td>I took Uber from IGT 1 to Sector 25 Noida and ...</td>\n",
              "    </tr>\n",
              "    <tr>\n",
              "      <th>12</th>\n",
              "      <td>Josie of Spruce Grove, AB</td>\n",
              "      <td>1.0</td>\n",
              "      <td>So my husband and I thought to let everybody k...</td>\n",
              "    </tr>\n",
              "    <tr>\n",
              "      <th>13</th>\n",
              "      <td>Glen of **</td>\n",
              "      <td>1.0</td>\n",
              "      <td>I was in Montreal last week as it was raining....</td>\n",
              "    </tr>\n",
              "    <tr>\n",
              "      <th>14</th>\n",
              "      <td>Robert of Spring Branch, TX</td>\n",
              "      <td>1.0</td>\n",
              "      <td>Launched app, was quoted $47 for the 30 mile r...</td>\n",
              "    </tr>\n",
              "    <tr>\n",
              "      <th>15</th>\n",
              "      <td>Chrissy of Linden, NJ</td>\n",
              "      <td>1.0</td>\n",
              "      <td>I placed an order on Uber Eats and the food ne...</td>\n",
              "    </tr>\n",
              "    <tr>\n",
              "      <th>16</th>\n",
              "      <td>Robert of Brookhaven, PA</td>\n",
              "      <td>1.0</td>\n",
              "      <td>Customer service is absolutely terrible. I hav...</td>\n",
              "    </tr>\n",
              "    <tr>\n",
              "      <th>17</th>\n",
              "      <td>Saif of New Delhi, Other</td>\n",
              "      <td>1.0</td>\n",
              "      <td>On Thursday 27/06/19 I lost my wallet with a s...</td>\n",
              "    </tr>\n",
              "    <tr>\n",
              "      <th>18</th>\n",
              "      <td>Rabel of Bronx, NY</td>\n",
              "      <td>1.0</td>\n",
              "      <td>Drivers take longer routes just to charge you ...</td>\n",
              "    </tr>\n",
              "    <tr>\n",
              "      <th>19</th>\n",
              "      <td>Julia of London, Other</td>\n",
              "      <td>1.0</td>\n",
              "      <td>I ordered an Uber around midnight, it said it ...</td>\n",
              "    </tr>\n",
              "  </tbody>\n",
              "</table>\n",
              "</div>"
            ],
            "text/plain": [
              "                              Name  ...                                             Review\n",
              "0           Dustin of St Louis, MO  ...  I have had a few great experiences and a coupl...\n",
              "1         John of Duncansville, PA  ...  I’ve never used Lyft before, and the only cab ...\n",
              "2   Pedro of Boston, Massachusetts  ...  I've never had a negative experience with Uber...\n",
              "3           Barbara of Chicago, IL  ...  I have always been skeptical about rideshare s...\n",
              "4    Jennifer of Philadelphia , PA  ...  I have used Uber several times and so far I am...\n",
              "5         Yuge of Fayetteville, AR  ...  First ** time I called you, my drivers says, \"...\n",
              "6              Ash of Delhi, Other  ...  Uber does only lip service in term of driver q...\n",
              "7             Preeti of Irving, TX  ...  I requested a ride from Fort Worth, South Hend...\n",
              "8          Ridhi of Chennai, Other  ...  Earlier, Uber was great. They used to provide ...\n",
              "9               Lev of Bayside, NY  ...  I have been using Uber as a rider from 2016 wi...\n",
              "10        PIYUSH of Gujarat, Other  ...  Uber Eats cancel order without refund. @UberEa...\n",
              "11     Neeraj of Gidderbaha, Other  ...  I took Uber from IGT 1 to Sector 25 Noida and ...\n",
              "12       Josie of Spruce Grove, AB  ...  So my husband and I thought to let everybody k...\n",
              "13                      Glen of **  ...  I was in Montreal last week as it was raining....\n",
              "14     Robert of Spring Branch, TX  ...  Launched app, was quoted $47 for the 30 mile r...\n",
              "15           Chrissy of Linden, NJ  ...  I placed an order on Uber Eats and the food ne...\n",
              "16        Robert of Brookhaven, PA  ...  Customer service is absolutely terrible. I hav...\n",
              "17        Saif of New Delhi, Other  ...  On Thursday 27/06/19 I lost my wallet with a s...\n",
              "18              Rabel of Bronx, NY  ...  Drivers take longer routes just to charge you ...\n",
              "19          Julia of London, Other  ...  I ordered an Uber around midnight, it said it ...\n",
              "\n",
              "[20 rows x 3 columns]"
            ]
          },
          "metadata": {
            "tags": []
          },
          "execution_count": 4
        }
      ]
    },
    {
      "cell_type": "code",
      "metadata": {
        "id": "Z4NrKAxtE26M",
        "colab_type": "code",
        "colab": {}
      },
      "source": [
        "Sentiments=[]\n",
        "for i in Reviews[\"Rating\"]:\n",
        "  x=float(i)\n",
        "  if x <3:\n",
        "    Sentiments.append(\"N\")\n",
        "\n",
        "  elif 3 < x < 6:\n",
        "      Sentiments.append(\"P\")\n",
        "  else:\n",
        "    Sentiments.append(\"O\")\n",
        "      \n",
        "    "
      ],
      "execution_count": 0,
      "outputs": []
    },
    {
      "cell_type": "code",
      "metadata": {
        "id": "vQTxy8CrKzO-",
        "colab_type": "code",
        "colab": {}
      },
      "source": [
        "Reviews['Sentiments'] = Sentiments"
      ],
      "execution_count": 0,
      "outputs": []
    },
    {
      "cell_type": "code",
      "metadata": {
        "id": "jcOllMjyIYTT",
        "colab_type": "code",
        "colab": {
          "base_uri": "https://localhost:8080/",
          "height": 669
        },
        "outputId": "72664087-af55-4051-daae-6537a87349fc"
      },
      "source": [
        "Reviews.head(20)"
      ],
      "execution_count": 7,
      "outputs": [
        {
          "output_type": "execute_result",
          "data": {
            "text/html": [
              "<div>\n",
              "<style scoped>\n",
              "    .dataframe tbody tr th:only-of-type {\n",
              "        vertical-align: middle;\n",
              "    }\n",
              "\n",
              "    .dataframe tbody tr th {\n",
              "        vertical-align: top;\n",
              "    }\n",
              "\n",
              "    .dataframe thead th {\n",
              "        text-align: right;\n",
              "    }\n",
              "</style>\n",
              "<table border=\"1\" class=\"dataframe\">\n",
              "  <thead>\n",
              "    <tr style=\"text-align: right;\">\n",
              "      <th></th>\n",
              "      <th>Name</th>\n",
              "      <th>Rating</th>\n",
              "      <th>Review</th>\n",
              "      <th>Sentiments</th>\n",
              "    </tr>\n",
              "  </thead>\n",
              "  <tbody>\n",
              "    <tr>\n",
              "      <th>0</th>\n",
              "      <td>Dustin of St Louis, MO</td>\n",
              "      <td>4.0</td>\n",
              "      <td>I have had a few great experiences and a coupl...</td>\n",
              "      <td>P</td>\n",
              "    </tr>\n",
              "    <tr>\n",
              "      <th>1</th>\n",
              "      <td>John of Duncansville, PA</td>\n",
              "      <td>5.0</td>\n",
              "      <td>I’ve never used Lyft before, and the only cab ...</td>\n",
              "      <td>P</td>\n",
              "    </tr>\n",
              "    <tr>\n",
              "      <th>2</th>\n",
              "      <td>Pedro of Boston, Massachusetts</td>\n",
              "      <td>5.0</td>\n",
              "      <td>I've never had a negative experience with Uber...</td>\n",
              "      <td>P</td>\n",
              "    </tr>\n",
              "    <tr>\n",
              "      <th>3</th>\n",
              "      <td>Barbara of Chicago, IL</td>\n",
              "      <td>4.0</td>\n",
              "      <td>I have always been skeptical about rideshare s...</td>\n",
              "      <td>P</td>\n",
              "    </tr>\n",
              "    <tr>\n",
              "      <th>4</th>\n",
              "      <td>Jennifer of Philadelphia , PA</td>\n",
              "      <td>5.0</td>\n",
              "      <td>I have used Uber several times and so far I am...</td>\n",
              "      <td>P</td>\n",
              "    </tr>\n",
              "    <tr>\n",
              "      <th>5</th>\n",
              "      <td>Yuge of Fayetteville, AR</td>\n",
              "      <td>1.0</td>\n",
              "      <td>First ** time I called you, my drivers says, \"...</td>\n",
              "      <td>N</td>\n",
              "    </tr>\n",
              "    <tr>\n",
              "      <th>6</th>\n",
              "      <td>Ash of Delhi, Other</td>\n",
              "      <td>1.0</td>\n",
              "      <td>Uber does only lip service in term of driver q...</td>\n",
              "      <td>N</td>\n",
              "    </tr>\n",
              "    <tr>\n",
              "      <th>7</th>\n",
              "      <td>Preeti of Irving, TX</td>\n",
              "      <td>1.0</td>\n",
              "      <td>I requested a ride from Fort Worth, South Hend...</td>\n",
              "      <td>N</td>\n",
              "    </tr>\n",
              "    <tr>\n",
              "      <th>8</th>\n",
              "      <td>Ridhi of Chennai, Other</td>\n",
              "      <td>1.0</td>\n",
              "      <td>Earlier, Uber was great. They used to provide ...</td>\n",
              "      <td>N</td>\n",
              "    </tr>\n",
              "    <tr>\n",
              "      <th>9</th>\n",
              "      <td>Lev of Bayside, NY</td>\n",
              "      <td>1.0</td>\n",
              "      <td>I have been using Uber as a rider from 2016 wi...</td>\n",
              "      <td>N</td>\n",
              "    </tr>\n",
              "    <tr>\n",
              "      <th>10</th>\n",
              "      <td>PIYUSH of Gujarat, Other</td>\n",
              "      <td>1.0</td>\n",
              "      <td>Uber Eats cancel order without refund. @UberEa...</td>\n",
              "      <td>N</td>\n",
              "    </tr>\n",
              "    <tr>\n",
              "      <th>11</th>\n",
              "      <td>Neeraj of Gidderbaha, Other</td>\n",
              "      <td>1.0</td>\n",
              "      <td>I took Uber from IGT 1 to Sector 25 Noida and ...</td>\n",
              "      <td>N</td>\n",
              "    </tr>\n",
              "    <tr>\n",
              "      <th>12</th>\n",
              "      <td>Josie of Spruce Grove, AB</td>\n",
              "      <td>1.0</td>\n",
              "      <td>So my husband and I thought to let everybody k...</td>\n",
              "      <td>N</td>\n",
              "    </tr>\n",
              "    <tr>\n",
              "      <th>13</th>\n",
              "      <td>Glen of **</td>\n",
              "      <td>1.0</td>\n",
              "      <td>I was in Montreal last week as it was raining....</td>\n",
              "      <td>N</td>\n",
              "    </tr>\n",
              "    <tr>\n",
              "      <th>14</th>\n",
              "      <td>Robert of Spring Branch, TX</td>\n",
              "      <td>1.0</td>\n",
              "      <td>Launched app, was quoted $47 for the 30 mile r...</td>\n",
              "      <td>N</td>\n",
              "    </tr>\n",
              "    <tr>\n",
              "      <th>15</th>\n",
              "      <td>Chrissy of Linden, NJ</td>\n",
              "      <td>1.0</td>\n",
              "      <td>I placed an order on Uber Eats and the food ne...</td>\n",
              "      <td>N</td>\n",
              "    </tr>\n",
              "    <tr>\n",
              "      <th>16</th>\n",
              "      <td>Robert of Brookhaven, PA</td>\n",
              "      <td>1.0</td>\n",
              "      <td>Customer service is absolutely terrible. I hav...</td>\n",
              "      <td>N</td>\n",
              "    </tr>\n",
              "    <tr>\n",
              "      <th>17</th>\n",
              "      <td>Saif of New Delhi, Other</td>\n",
              "      <td>1.0</td>\n",
              "      <td>On Thursday 27/06/19 I lost my wallet with a s...</td>\n",
              "      <td>N</td>\n",
              "    </tr>\n",
              "    <tr>\n",
              "      <th>18</th>\n",
              "      <td>Rabel of Bronx, NY</td>\n",
              "      <td>1.0</td>\n",
              "      <td>Drivers take longer routes just to charge you ...</td>\n",
              "      <td>N</td>\n",
              "    </tr>\n",
              "    <tr>\n",
              "      <th>19</th>\n",
              "      <td>Julia of London, Other</td>\n",
              "      <td>1.0</td>\n",
              "      <td>I ordered an Uber around midnight, it said it ...</td>\n",
              "      <td>N</td>\n",
              "    </tr>\n",
              "  </tbody>\n",
              "</table>\n",
              "</div>"
            ],
            "text/plain": [
              "                              Name  ... Sentiments\n",
              "0           Dustin of St Louis, MO  ...          P\n",
              "1         John of Duncansville, PA  ...          P\n",
              "2   Pedro of Boston, Massachusetts  ...          P\n",
              "3           Barbara of Chicago, IL  ...          P\n",
              "4    Jennifer of Philadelphia , PA  ...          P\n",
              "5         Yuge of Fayetteville, AR  ...          N\n",
              "6              Ash of Delhi, Other  ...          N\n",
              "7             Preeti of Irving, TX  ...          N\n",
              "8          Ridhi of Chennai, Other  ...          N\n",
              "9               Lev of Bayside, NY  ...          N\n",
              "10        PIYUSH of Gujarat, Other  ...          N\n",
              "11     Neeraj of Gidderbaha, Other  ...          N\n",
              "12       Josie of Spruce Grove, AB  ...          N\n",
              "13                      Glen of **  ...          N\n",
              "14     Robert of Spring Branch, TX  ...          N\n",
              "15           Chrissy of Linden, NJ  ...          N\n",
              "16        Robert of Brookhaven, PA  ...          N\n",
              "17        Saif of New Delhi, Other  ...          N\n",
              "18              Rabel of Bronx, NY  ...          N\n",
              "19          Julia of London, Other  ...          N\n",
              "\n",
              "[20 rows x 4 columns]"
            ]
          },
          "metadata": {
            "tags": []
          },
          "execution_count": 7
        }
      ]
    },
    {
      "cell_type": "code",
      "metadata": {
        "id": "axI95nLTNqn0",
        "colab_type": "code",
        "colab": {}
      },
      "source": [
        "punctuation = '!\"#$%&()*+-/:;<=>?@[\\\\]^_`{|}~'\n",
        "Reviews['Review'] = Reviews['Review'].apply(lambda x: ''.join(ch for ch in x if ch not in set(punctuation)))"
      ],
      "execution_count": 0,
      "outputs": []
    },
    {
      "cell_type": "code",
      "metadata": {
        "id": "TAKN18lYN3-_",
        "colab_type": "code",
        "colab": {}
      },
      "source": [
        "# convert text to lowercase\n",
        "Reviews['Review'] = Reviews['Review'].str.lower()"
      ],
      "execution_count": 0,
      "outputs": []
    },
    {
      "cell_type": "code",
      "metadata": {
        "id": "9znpyEqpOHFD",
        "colab_type": "code",
        "colab": {}
      },
      "source": [
        "# remove numbers\n",
        "Reviews['Review'] = Reviews['Review'].str.replace(\"[0-9]\", \" \")"
      ],
      "execution_count": 0,
      "outputs": []
    },
    {
      "cell_type": "code",
      "metadata": {
        "id": "_rXdgmp1OVjw",
        "colab_type": "code",
        "colab": {
          "base_uri": "https://localhost:8080/",
          "height": 1000
        },
        "outputId": "21d29125-ab61-4ade-cad9-a3c4d7827e69"
      },
      "source": [
        "# remove whitespaces\n",
        "Reviews['Review'] = Reviews['Review'].apply(lambda x:' '.join(x.split()))\n",
        "Reviews['Review']"
      ],
      "execution_count": 11,
      "outputs": [
        {
          "output_type": "execute_result",
          "data": {
            "text/plain": [
              "0      i have had a few great experiences and a coupl...\n",
              "1      i’ve never used lyft before, and the only cab ...\n",
              "2      i've never had a negative experience with uber...\n",
              "3      i have always been skeptical about rideshare s...\n",
              "4      i have used uber several times and so far i am...\n",
              "5      first time i called you, my drivers says, i ca...\n",
              "6      uber does only lip service in term of driver q...\n",
              "7      i requested a ride from fort worth, south hend...\n",
              "8      earlier, uber was great. they used to provide ...\n",
              "9      i have been using uber as a rider from with a ...\n",
              "10     uber eats cancel order without refund. ubereat...\n",
              "11     i took uber from igt to sector noida and it sh...\n",
              "12     so my husband and i thought to let everybody k...\n",
              "13     i was in montreal last week as it was raining....\n",
              "14     launched app, was quoted for the mile ride hom...\n",
              "15     i placed an order on uber eats and the food ne...\n",
              "16     customer service is absolutely terrible. i hav...\n",
              "17     on thursday i lost my wallet with a significan...\n",
              "18     drivers take longer routes just to charge you ...\n",
              "19     i ordered an uber around midnight, it said it ...\n",
              "20     on at pm i took an uber. the driver salaheddin...\n",
              "21     uber's customer service department is absolute...\n",
              "22     i was charged dollars for a ride that was only...\n",
              "23     i usually don't use uber but i went away and h...\n",
              "24     i have driven with lyft for quite some time an...\n",
              "25     fraudulent trips on bank acct. called uber. su...\n",
              "26     i take pride in driving, that is why i am quit...\n",
              "27     my first experience did not go well. i’m in wa...\n",
              "28     i booked an uber ride and the driver immediate...\n",
              "29     apparently, it must be an easy way for drivers...\n",
              "                             ...                        \n",
              "270    there are too many issues with safety and abus...\n",
              "271    i find ridesharing services invaluable. from a...\n",
              "272    the cost as a rider seems to have increased. o...\n",
              "273    i try to avoid rideshare if possible because o...\n",
              "274    i've made the same journey multiple times. on ...\n",
              "275    disgrace food delivered an hour later, stone c...\n",
              "276    been driving for uber about a year now and am ...\n",
              "277    my husband and i arranged a ride to the airpor...\n",
              "278    uber's customer service is horrific and nearly...\n",
              "279    i’ve been using uber for years. then i tried t...\n",
              "280    i will never use uber again. i submitted a com...\n",
              "281    i have always used lyft due to negative info a...\n",
              "282    uber deactivated my account with no reason giv...\n",
              "283    i correctly entered in the destination on the ...\n",
              "284    i requested a ride for uber to the nail salon ...\n",
              "285    my account has been blocked for no reason and ...\n",
              "286    i booked a ride to my grocery store heb in aus...\n",
              "287    today i booked uber cab at pm. estimated time ...\n",
              "288    my purse was stolen by my uber driver. i left ...\n",
              "289    after working for several months in an area wi...\n",
              "290    ordered uber and driver never turned up, charg...\n",
              "291    i have used uber several times and had no issu...\n",
              "292    my driver falsified my delivery, the customer ...\n",
              "293    on , i rode from my office to my home miles in...\n",
              "294    i have been waiting for my . since february th...\n",
              "295    i called uber for a ride from my home to my jo...\n",
              "296    this was the worst experience i have ever had....\n",
              "297    use uber all the time and only a few times wit...\n",
              "298    i have done delivery for this company for a co...\n",
              "299    they never showed up for the taxis we booked, ...\n",
              "Name: Review, Length: 300, dtype: object"
            ]
          },
          "metadata": {
            "tags": []
          },
          "execution_count": 11
        }
      ]
    },
    {
      "cell_type": "code",
      "metadata": {
        "id": "0VDlLLGYOgnN",
        "colab_type": "code",
        "colab": {}
      },
      "source": [
        "import spacy\n",
        "nlp = spacy.load('en', disable=['parser', 'ner'])\n",
        "\n",
        "# function to lemmatize text\n",
        "def lemmatization(texts):\n",
        "    output = []\n",
        "    for i in texts:\n",
        "        s = [token.lemma_ for token in nlp(i)]\n",
        "        output.append(' '.join(s))\n",
        "    return output"
      ],
      "execution_count": 0,
      "outputs": []
    },
    {
      "cell_type": "code",
      "metadata": {
        "id": "7vq8fR2ZSDmV",
        "colab_type": "code",
        "colab": {}
      },
      "source": [
        "Reviews['Review'] = lemmatization(Reviews['Review'])\n"
      ],
      "execution_count": 0,
      "outputs": []
    },
    {
      "cell_type": "code",
      "metadata": {
        "id": "uclDHvi2TBjz",
        "colab_type": "code",
        "colab": {
          "base_uri": "https://localhost:8080/",
          "height": 51
        },
        "outputId": "0c3a49a6-c5e9-49f5-d29b-5d0c7e348cd9"
      },
      "source": [
        "import nltk\n",
        "nltk.download('stopwords')\n",
        "from nltk.corpus import stopwords\n",
        "stop_words = stopwords.words('english')"
      ],
      "execution_count": 14,
      "outputs": [
        {
          "output_type": "stream",
          "text": [
            "[nltk_data] Downloading package stopwords to /root/nltk_data...\n",
            "[nltk_data]   Package stopwords is already up-to-date!\n"
          ],
          "name": "stdout"
        }
      ]
    },
    {
      "cell_type": "code",
      "metadata": {
        "id": "ffihjomuTQvf",
        "colab_type": "code",
        "colab": {
          "base_uri": "https://localhost:8080/",
          "height": 1000
        },
        "outputId": "32b92d0a-536a-434f-c542-c19f5b2e8592"
      },
      "source": [
        "from nltk.corpus import stopwords\n",
        "stop = stopwords.words('english')\n",
        "Reviews['Review'] = Reviews['Review'].apply(lambda x: \" \".join(x for x in x.split() if x not in stop))\n",
        "Reviews['Review']"
      ],
      "execution_count": 15,
      "outputs": [
        {
          "output_type": "execute_result",
          "data": {
            "text/plain": [
              "0      great experience couple bad experience . bad e...\n",
              "1      -PRON- never use lyft , cab company highly ine...\n",
              "2      -PRON- never negative experience uber . -PRON-...\n",
              "3      always skeptical rideshare service news report...\n",
              "4      use uber several time far happy company easy -...\n",
              "5      first time call -PRON- , -PRON- driver say , m...\n",
              "6      uber lip service term driver quality india . l...\n",
              "7      request ride fort worth , south henderson stre...\n",
              "8      earlier , uber great . -PRON- use provide prom...\n",
              "9      use uber rider good passenger rating . never i...\n",
              "10     uber eat cancel order without refund . ubereat...\n",
              "11     take uber igt sector noida -PRON- show rent ap...\n",
              "12     -PRON- husband think let everybody know -PRON-...\n",
              "13     montreal last week -PRON- rain . want quick ri...\n",
              "14     launch app , quote mile ride home , expect , -...\n",
              "15     place order uber eat food never show charge an...\n",
              "16     customer service absolutely terrible . recentl...\n",
              "17     thursday lose -PRON- wallet significant amount...\n",
              "18     driver take long route charge -PRON- money -PR...\n",
              "19     order uber around midnight , -PRON- say -PRON-...\n",
              "20     pm take uber . driver salaheddin , much large ...\n",
              "21     uber 's customer service department absolute g...\n",
              "22     charge dollar ride dollar . also put hell get ...\n",
              "23     usually use uber go away one take -PRON- . ube...\n",
              "24     drive lyft quite time star driver rating . say...\n",
              "25     fraudulent trip bank acct . call uber . suppor...\n",
              "26     take pride driving , quit today . drive time m...\n",
              "27     -PRON- first experience go well . -PRON- waiki...\n",
              "28     book uber ride driver immediately accept trip ...\n",
              "29     apparently , -PRON- must easy way driver uber ...\n",
              "                             ...                        \n",
              "270    many issue safety abuse . try uber , prefer sa...\n",
              "271    find ridesharing service invaluable . business...\n",
              "272    cost rider seem increase . one way work cost ....\n",
              "273    try avoid rideshare possible uncertainty vehic...\n",
              "274    -PRON- make journey multiple time . one occasi...\n",
              "275    disgrace food deliver hour later , stone cold ...\n",
              "276    drive uber year unhappy way -PRON- conduct bus...\n",
              "277    -PRON- husband arrange ride airport uber . -PR...\n",
              "278    uber 's customer service horrific nearly impos...\n",
              "279    -PRON- use uber year . try use -PRON- . bal du...\n",
              "280    never use uber . submit complaint receive cred...\n",
              "281    always use lyft due negative info uber . recei...\n",
              "282    uber deactivate -PRON- account reason give . -...\n",
              "283    correctly enter destination app driver arrive ...\n",
              "284    request ride uber nail salon stop starbuck way...\n",
              "285    -PRON- account block reason without warn -PRON...\n",
              "286    book ride -PRON- grocery store heb austin . ge...\n",
              "287    today book uber cab pm . estimate time min . -...\n",
              "288    -PRON- purse steal -PRON- uber driver . leave ...\n",
              "289    work several month area without uber , return ...\n",
              "290    order uber driver never turn , charge . pound ...\n",
              "291    use uber several time issue run -PRON- incorre...\n",
              "292    -PRON- driver falsify -PRON- delivery , custom...\n",
              "293    , ride -PRON- office -PRON- home mile minute c...\n",
              "294    wait -PRON- . since february th call -PRON- cu...\n",
              "295    call uber ride -PRON- home -PRON- job reach -P...\n",
              "296    bad experience ever . customer service horrend...\n",
              "297    use uber time time issue . cancel -PRON- , res...\n",
              "298    delivery company couple month notice one -PRON...\n",
              "299    -PRON- never show taxi -PRON- book , -PRON- ca...\n",
              "Name: Review, Length: 300, dtype: object"
            ]
          },
          "metadata": {
            "tags": []
          },
          "execution_count": 15
        }
      ]
    },
    {
      "cell_type": "code",
      "metadata": {
        "id": "S4CI2q_gTFvr",
        "colab_type": "code",
        "colab": {}
      },
      "source": [
        "# remove short words (length < 3)\n",
        "Reviews[\"Review\"] = Reviews[\"Review\"].apply(lambda x: ' '.join([w for w in x.split() if len(w)>2]))\n"
      ],
      "execution_count": 0,
      "outputs": []
    },
    {
      "cell_type": "code",
      "metadata": {
        "id": "d-P3OzESTtaW",
        "colab_type": "code",
        "colab": {
          "base_uri": "https://localhost:8080/",
          "height": 204
        },
        "outputId": "f85a5041-ac51-464f-c241-ed30b3961a3a"
      },
      "source": [
        "#IDENTIFY TOP 10 OCCURING WORDS\n",
        "freq = pd.Series(' '.join(Reviews['Review']).split()).value_counts()[:10]\n",
        "freq"
      ],
      "execution_count": 17,
      "outputs": [
        {
          "output_type": "execute_result",
          "data": {
            "text/plain": [
              "-PRON-     2047\n",
              "uber        540\n",
              "driver      315\n",
              "use         177\n",
              "ride        176\n",
              "get         169\n",
              "time        160\n",
              "charge      121\n",
              "take        119\n",
              "service     110\n",
              "dtype: int64"
            ]
          },
          "metadata": {
            "tags": []
          },
          "execution_count": 17
        }
      ]
    },
    {
      "cell_type": "code",
      "metadata": {
        "id": "bLI67yFMUExq",
        "colab_type": "code",
        "colab": {
          "base_uri": "https://localhost:8080/",
          "height": 119
        },
        "outputId": "a0db509f-8746-4c59-f186-9cebd635006e"
      },
      "source": [
        "common_word=(\"uber,driver,use,ride,get,take\")\n",
        "Reviews['Review'] = Reviews['Review'].apply(lambda x: \" \".join(x for x in x.split() if x not in common_word))\n",
        "Reviews['Review'].head()"
      ],
      "execution_count": 20,
      "outputs": [
        {
          "output_type": "execute_result",
          "data": {
            "text/plain": [
              "0    great experience couple bad experience bad exp...\n",
              "1    -PRON- never lyft cab company highly ineffecti...\n",
              "2    -PRON- never negative experience -PRON- one do...\n",
              "3    always skeptical rideshare service news report...\n",
              "4    several time far happy company easy -PRON- set...\n",
              "Name: Review, dtype: object"
            ]
          },
          "metadata": {
            "tags": []
          },
          "execution_count": 20
        }
      ]
    },
    {
      "cell_type": "code",
      "metadata": {
        "id": "xQdDdBbVSa8r",
        "colab_type": "code",
        "colab": {
          "base_uri": "https://localhost:8080/",
          "height": 119
        },
        "outputId": "3acc5ecb-c905-497c-8f00-97c437bef2b2"
      },
      "source": [
        "\n"
      ],
      "execution_count": 19,
      "outputs": [
        {
          "output_type": "execute_result",
          "data": {
            "text/plain": [
              "0    great experience couple bad experience bad exp...\n",
              "1    -PRON- never use lyft cab company highly ineff...\n",
              "2    -PRON- never negative experience -PRON- one do...\n",
              "3    always skeptical rideshare service news report...\n",
              "4    use several time far happy company easy -PRON-...\n",
              "Name: Review, dtype: object"
            ]
          },
          "metadata": {
            "tags": []
          },
          "execution_count": 19
        }
      ]
    }
  ]
}